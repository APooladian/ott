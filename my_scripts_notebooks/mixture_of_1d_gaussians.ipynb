{
 "cells": [
  {
   "cell_type": "code",
   "execution_count": 1,
   "id": "40640782",
   "metadata": {},
   "outputs": [],
   "source": [
    "import jax\n",
    "import jax.numpy as jnp\n",
    "import matplotlib.pyplot as plt\n",
    "%matplotlib inline"
   ]
  },
  {
   "cell_type": "code",
   "execution_count": 2,
   "id": "0dfce00d",
   "metadata": {},
   "outputs": [],
   "source": [
    "import sys\n",
    "sys.path.insert(1, '/Users/ersi/Documents/ott/')"
   ]
  },
  {
   "cell_type": "code",
   "execution_count": 3,
   "id": "56bdf58c",
   "metadata": {},
   "outputs": [],
   "source": [
    "from ott.tools.gaussian_mixture import gaussian_mixture"
   ]
  },
  {
   "cell_type": "code",
   "execution_count": 4,
   "id": "4f22b5e4",
   "metadata": {},
   "outputs": [
    {
     "name": "stderr",
     "output_type": "stream",
     "text": [
      "WARNING:absl:No GPU/TPU found, falling back to CPU. (Set TF_CPP_MIN_LOG_LEVEL=0 and rerun for more info.)\n"
     ]
    }
   ],
   "source": [
    "key = jax.random.PRNGKey(0)"
   ]
  },
  {
   "cell_type": "code",
   "execution_count": 5,
   "id": "340311e7",
   "metadata": {},
   "outputs": [],
   "source": [
    "keys = jax.random.split(key, num=4)"
   ]
  },
  {
   "cell_type": "code",
   "execution_count": 6,
   "id": "ba38fb55",
   "metadata": {},
   "outputs": [],
   "source": [
    "sample_size = 2000"
   ]
  },
  {
   "cell_type": "code",
   "execution_count": 7,
   "id": "df766f2d",
   "metadata": {},
   "outputs": [],
   "source": [
    "num_of_components = 3"
   ]
  },
  {
   "cell_type": "code",
   "execution_count": 8,
   "id": "44a3bd4d",
   "metadata": {},
   "outputs": [],
   "source": [
    "d = 1 # dimension"
   ]
  },
  {
   "cell_type": "code",
   "execution_count": 9,
   "id": "4c6b97c0",
   "metadata": {},
   "outputs": [],
   "source": [
    "means = jnp.asarray([2.0, 7.0, 11.0])"
   ]
  },
  {
   "cell_type": "code",
   "execution_count": 10,
   "id": "e1057231",
   "metadata": {},
   "outputs": [],
   "source": [
    "sigmas = jnp.asarray([1.0, 1.0, 1.0])"
   ]
  },
  {
   "cell_type": "code",
   "execution_count": 11,
   "id": "5e991c50",
   "metadata": {},
   "outputs": [],
   "source": [
    "weights = jnp.asarray([0.2, 0.5, 0.3])"
   ]
  },
  {
   "cell_type": "code",
   "execution_count": null,
   "id": "54cbe7ab",
   "metadata": {},
   "outputs": [],
   "source": []
  }
 ],
 "metadata": {
  "kernelspec": {
   "display_name": "Python 3 (ipykernel)",
   "language": "python",
   "name": "python3"
  },
  "language_info": {
   "codemirror_mode": {
    "name": "ipython",
    "version": 3
   },
   "file_extension": ".py",
   "mimetype": "text/x-python",
   "name": "python",
   "nbconvert_exporter": "python",
   "pygments_lexer": "ipython3",
   "version": "3.9.13"
  }
 },
 "nbformat": 4,
 "nbformat_minor": 5
}
