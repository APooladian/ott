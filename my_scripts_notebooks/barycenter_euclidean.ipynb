{
 "cells": [
  {
   "cell_type": "code",
   "execution_count": 1,
   "metadata": {},
   "outputs": [],
   "source": [
    "import jax\n",
    "import jax.numpy as jnp\n",
    "import sklearn\n",
    "from sklearn import datasets"
   ]
  },
  {
   "cell_type": "code",
   "execution_count": 2,
   "metadata": {},
   "outputs": [],
   "source": [
    "import sys\n",
    "# insert at 1, 0 is the script path (or '' in REPL)\n",
    "sys.path.insert(1, '/Users/ersi/Documents/ott/')"
   ]
  },
  {
   "cell_type": "code",
   "execution_count": 3,
   "metadata": {},
   "outputs": [],
   "source": [
    "from ott.core import bar_problems, continuous_barycenter"
   ]
  },
  {
   "cell_type": "code",
   "execution_count": 4,
   "metadata": {},
   "outputs": [],
   "source": [
    "import matplotlib.pyplot as plt"
   ]
  },
  {
   "cell_type": "code",
   "execution_count": 5,
   "metadata": {},
   "outputs": [
    {
     "name": "stderr",
     "output_type": "stream",
     "text": [
      "WARNING:absl:No GPU/TPU found, falling back to CPU. (Set TF_CPP_MIN_LOG_LEVEL=0 and rerun for more info.)\n"
     ]
    }
   ],
   "source": [
    "# Set problem size\n",
    "n_max = 20\n",
    "dim = 2\n",
    "N = 3\n",
    "n = [jax.random.randint(jax.random.PRNGKey(x),\n",
    "                        shape=(1,), minval=20, maxval=n_max) for x in range(N)]\n",
    "n = jnp.concatenate(n)"
   ]
  },
  {
   "cell_type": "code",
   "execution_count": 6,
   "metadata": {},
   "outputs": [
    {
     "data": {
      "text/plain": [
       "DeviceArray([20, 20, 20], dtype=int32)"
      ]
     },
     "execution_count": 6,
     "metadata": {},
     "output_type": "execute_result"
    }
   ],
   "source": [
    "n"
   ]
  },
  {
   "cell_type": "markdown",
   "metadata": {},
   "source": []
  },
  {
   "cell_type": "code",
   "execution_count": 7,
   "metadata": {},
   "outputs": [],
   "source": [
    "seed = 42 # added seed for reproducible data\n",
    "data = sklearn.datasets.make_blobs(n_samples=n, n_features=dim, \n",
    "                                centers=None, shuffle=False, random_state=seed)\n",
    "y = jnp.array(data[0])\n",
    "labels = jnp.array(data[1])"
   ]
  },
  {
   "cell_type": "code",
   "execution_count": 8,
   "metadata": {},
   "outputs": [],
   "source": [
    "bar_p = bar_problems.BarycenterProblem(\n",
    "      y, num_per_segment=n, num_segments=N, max_measure_size=n_max,\n",
    "      epsilon=0.01)"
   ]
  },
  {
   "cell_type": "code",
   "execution_count": 9,
   "metadata": {},
   "outputs": [],
   "source": [
    "solver = continuous_barycenter.WassersteinBarycenter()"
   ]
  },
  {
   "cell_type": "code",
   "execution_count": 10,
   "metadata": {},
   "outputs": [],
   "source": [
    "bar_size=10\n",
    "out = solver(bar_p, bar_size=bar_size)"
   ]
  },
  {
   "cell_type": "code",
   "execution_count": 11,
   "metadata": {},
   "outputs": [
    {
     "data": {
      "image/png": "[encoded data removed]",
      "text/plain": [
       "<Figure size 432x288 with 1 Axes>"
      ]
     },
     "metadata": {
      "needs_background": "light"
     },
     "output_type": "display_data"
    }
   ],
   "source": [
    "plt.figure();\n",
    "plt.scatter(y[:,0], y[:,1], c=labels);\n",
    "plt.scatter(out.x[:,0], out.x[:,1], c='red');"
   ]
  },
  {
   "cell_type": "code",
   "execution_count": 12,
   "metadata": {},
   "outputs": [
    {
     "data": {
      "text/plain": [
       "DeviceArray([[-0.9299848 ,  9.781721  ],\n",
       "             [-2.978672  ,  9.556847  ],\n",
       "             [-2.9726152 ,  8.548556  ],\n",
       "             [-2.2672353 ,  7.101006  ],\n",
       "             [-4.2341156 ,  8.451999  ],\n",
       "             [-3.5220287 ,  9.328533  ],\n",
       "             [-3.4172218 ,  7.6019826 ],\n",
       "             [-1.0435488 ,  8.788509  ],\n",
       "             [-2.4416695 ,  7.589538  ],\n",
       "             [-3.0535803 ,  9.125209  ],\n",
       "             [-3.6601913 ,  9.389984  ],\n",
       "             [-3.1098363 ,  8.722592  ],\n",
       "             [-3.1109042 , 10.866565  ],\n",
       "             [-2.5226948 ,  7.9565754 ],\n",
       "             [-1.6866527 ,  7.7934422 ],\n",
       "             [-2.300334  ,  7.054616  ],\n",
       "             [-3.8373837 ,  9.211147  ],\n",
       "             [-1.7707311 ,  9.185655  ],\n",
       "             [-2.624846  ,  8.713182  ],\n",
       "             [-3.9877195 ,  8.294442  ],\n",
       "             [ 4.17924   ,  3.0302918 ],\n",
       "             [ 4.983497  ,  0.21012953],\n",
       "             [ 4.963963  ,  1.5880874 ],\n",
       "             [ 3.962957  ,  2.584846  ],\n",
       "             [ 5.6708784 ,  2.9044497 ],\n",
       "             [ 3.8006613 ,  1.6639574 ],\n",
       "             [ 4.9711423 ,  2.9487147 ],\n",
       "             [ 4.1607046 ,  1.7875108 ],\n",
       "             [ 3.5335438 ,  0.77696306],\n",
       "             [ 5.4524045 ,  3.3294096 ],\n",
       "             [ 4.5678687 ,  2.9767027 ],\n",
       "             [ 5.001515  ,  1.3280499 ],\n",
       "             [ 5.0012746 ,  3.5112062 ],\n",
       "             [ 4.604053  ,  3.5378134 ],\n",
       "             [ 2.0201337 ,  2.795072  ],\n",
       "             [ 4.726926  ,  1.6741624 ],\n",
       "             [ 4.7316394 , -0.01439923],\n",
       "             [ 4.420207  ,  2.3302822 ],\n",
       "             [ 6.117773  ,  1.4548994 ],\n",
       "             [ 3.8313851 ,  1.4714127 ],\n",
       "             [-5.9642253 , -6.5513587 ],\n",
       "             [-7.4093876 , -6.3668423 ],\n",
       "             [-6.78255   , -5.9114647 ],\n",
       "             [-7.5816803 , -7.207772  ],\n",
       "             [-7.271735  , -8.343624  ],\n",
       "             [-6.583507  , -6.6190543 ],\n",
       "             [-6.8745136 , -7.1146965 ],\n",
       "             [-8.294998  , -7.300755  ],\n",
       "             [-7.2223415 , -7.682387  ],\n",
       "             [-7.040913  , -6.476059  ],\n",
       "             [-4.993441  , -6.7055316 ],\n",
       "             [-6.622077  , -6.9545555 ],\n",
       "             [-8.798398  , -6.9066234 ],\n",
       "             [-6.819397  , -4.4168673 ],\n",
       "             [-7.071988  , -6.5785623 ],\n",
       "             [-6.914339  , -8.048788  ],\n",
       "             [-5.7368045 , -6.1281767 ],\n",
       "             [-6.0885954 , -7.789497  ],\n",
       "             [-5.476833  , -8.2819605 ],\n",
       "             [-6.29277   , -4.689654  ]], dtype=float32)"
      ]
     },
     "execution_count": 12,
     "metadata": {},
     "output_type": "execute_result"
    }
   ],
   "source": [
    "y"
   ]
  },
  {
   "cell_type": "code",
   "execution_count": null,
   "metadata": {},
   "outputs": [],
   "source": []
  }
 ],
 "metadata": {
  "interpreter": {
   "hash": "a460e8fcdfe002e03c748948db244b0e2b6fcc3a5fde90cb9832f0e3db01cb6e"
  },
  "kernelspec": {
   "display_name": "Python 3.9.12 ('myenv')",
   "language": "python",
   "name": "python3"
  },
  "language_info": {
   "codemirror_mode": {
    "name": "ipython",
    "version": 3
   },
   "file_extension": ".py",
   "mimetype": "text/x-python",
   "name": "python",
   "nbconvert_exporter": "python",
   "pygments_lexer": "ipython3",
   "version": "3.9.13"
  },
  "orig_nbformat": 4
 },
 "nbformat": 4,
 "nbformat_minor": 2
}
