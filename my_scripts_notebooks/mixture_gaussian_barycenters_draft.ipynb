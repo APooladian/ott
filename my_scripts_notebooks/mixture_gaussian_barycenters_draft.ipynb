{
 "cells": [
  {
   "cell_type": "code",
   "execution_count": 1,
   "id": "4523330a",
   "metadata": {},
   "outputs": [],
   "source": [
    "import jax\n",
    "import jax.numpy as jnp\n",
    "import matplotlib.pyplot as plt\n",
    "%matplotlib inline"
   ]
  },
  {
   "cell_type": "code",
   "execution_count": 2,
   "id": "9458bed8",
   "metadata": {},
   "outputs": [],
   "source": [
    "from sklearn.datasets import make_spd_matrix"
   ]
  },
  {
   "cell_type": "code",
   "execution_count": 3,
   "id": "f7afbe1c",
   "metadata": {},
   "outputs": [],
   "source": [
    "import sys\n",
    "sys.path.insert(1, '/Users/ersi/Documents/ott/')"
   ]
  },
  {
   "cell_type": "code",
   "execution_count": 4,
   "id": "8b0d3f54",
   "metadata": {},
   "outputs": [],
   "source": [
    "from ott.tools.gaussian_mixture import gaussian_mixture"
   ]
  },
  {
   "cell_type": "code",
   "execution_count": 5,
   "id": "8c6a739d",
   "metadata": {},
   "outputs": [],
   "source": [
    "# from ott.geometry.costs import Bures\n",
    "from ott.core import bar_problems\n",
    "from ott.core import continuous_barycenter\n",
    "d = 2  # dimensionality"
   ]
  },
  {
   "cell_type": "code",
   "execution_count": 6,
   "id": "c5156c23",
   "metadata": {},
   "outputs": [
    {
     "name": "stderr",
     "output_type": "stream",
     "text": [
      "WARNING:absl:No GPU/TPU found, falling back to CPU. (Set TF_CPP_MIN_LOG_LEVEL=0 and rerun for more info.)\n"
     ]
    }
   ],
   "source": [
    "key = jax.random.PRNGKey(0)"
   ]
  },
  {
   "cell_type": "code",
   "execution_count": 7,
   "id": "8ce8de45",
   "metadata": {},
   "outputs": [],
   "source": [
    "sample_size = 2000"
   ]
  },
  {
   "cell_type": "code",
   "execution_count": 8,
   "id": "c8c8d65f",
   "metadata": {},
   "outputs": [],
   "source": [
    "num_of_components = 3"
   ]
  },
  {
   "cell_type": "code",
   "execution_count": 9,
   "id": "9576377b",
   "metadata": {},
   "outputs": [],
   "source": [
    "keys = jax.random.split(key, num=2*num_of_components+3)"
   ]
  },
  {
   "cell_type": "code",
   "execution_count": 10,
   "id": "9f5fa28e",
   "metadata": {},
   "outputs": [],
   "source": [
    "d = 2 # dimension"
   ]
  },
  {
   "cell_type": "code",
   "execution_count": 11,
   "id": "5e43b19d",
   "metadata": {},
   "outputs": [],
   "source": [
    "seed = 42"
   ]
  },
  {
   "cell_type": "code",
   "execution_count": 12,
   "id": "c50a2019",
   "metadata": {},
   "outputs": [],
   "source": [
    "seeds = [2, 5, 12]"
   ]
  },
  {
   "cell_type": "markdown",
   "id": "2892d245",
   "metadata": {},
   "source": [
    "# Generate one GMM"
   ]
  },
  {
   "cell_type": "code",
   "execution_count": 13,
   "id": "15f86897",
   "metadata": {},
   "outputs": [],
   "source": [
    "means1 = jnp.asarray([jax.random.randint(key=keys[i], shape=(d,), minval=-10, maxval=10) for i in range(num_of_components)])"
   ]
  },
  {
   "cell_type": "code",
   "execution_count": 14,
   "id": "60c510a2",
   "metadata": {},
   "outputs": [],
   "source": [
    "covs1 = jnp.asarray([make_spd_matrix(n_dim=d, random_state=seeds[i])\n",
    "                    for i in range(num_of_components)])"
   ]
  },
  {
   "cell_type": "code",
   "execution_count": 15,
   "id": "94ed7d12",
   "metadata": {},
   "outputs": [
    {
     "data": {
      "text/plain": [
       "DeviceArray([[ 6,  8],\n",
       "             [ 0, -5],\n",
       "             [ 0,  1]], dtype=int32)"
      ]
     },
     "execution_count": 15,
     "metadata": {},
     "output_type": "execute_result"
    }
   ],
   "source": [
    "means1"
   ]
  },
  {
   "cell_type": "code",
   "execution_count": 16,
   "id": "21ededfe",
   "metadata": {},
   "outputs": [
    {
     "data": {
      "text/plain": [
       "(3, 2)"
      ]
     },
     "execution_count": 16,
     "metadata": {},
     "output_type": "execute_result"
    }
   ],
   "source": [
    "means1.shape"
   ]
  },
  {
   "cell_type": "code",
   "execution_count": 17,
   "id": "044ba1e7",
   "metadata": {},
   "outputs": [
    {
     "data": {
      "text/plain": [
       "DeviceArray([[[ 2.2550676 , -0.47762507],\n",
       "              [-0.47762507,  0.495635  ]],\n",
       "\n",
       "             [[ 2.057648  ,  0.8638142 ],\n",
       "              [ 0.8638142 ,  1.042507  ]],\n",
       "\n",
       "             [[ 2.40619   ,  0.56715715],\n",
       "              [ 0.56715715,  0.5271321 ]]], dtype=float32)"
      ]
     },
     "execution_count": 17,
     "metadata": {},
     "output_type": "execute_result"
    }
   ],
   "source": [
    "covs1"
   ]
  },
  {
   "cell_type": "code",
   "execution_count": 18,
   "id": "9edb3c58",
   "metadata": {},
   "outputs": [
    {
     "data": {
      "text/plain": [
       "(3, 2, 2)"
      ]
     },
     "execution_count": 18,
     "metadata": {},
     "output_type": "execute_result"
    }
   ],
   "source": [
    "covs1.shape"
   ]
  },
  {
   "cell_type": "code",
   "execution_count": 19,
   "id": "41dd72fa",
   "metadata": {},
   "outputs": [],
   "source": [
    "# gmm_generator = gaussian_mixture.GaussianMixture.from_random(key=keys[0],\n",
    "#                                                              n_components=2, n_dimensions=2,  stdev=0.001)"
   ]
  },
  {
   "cell_type": "code",
   "execution_count": 20,
   "id": "043a8977",
   "metadata": {},
   "outputs": [],
   "source": [
    "weights1 = jnp.asarray([0.3, 0.3, 0.4]) # auto 8a einai to antistoixo histogram"
   ]
  },
  {
   "cell_type": "code",
   "execution_count": 21,
   "id": "15b94f3b",
   "metadata": {},
   "outputs": [
    {
     "data": {
      "text/plain": [
       "DeviceArray([0.3, 0.3, 0.4], dtype=float32)"
      ]
     },
     "execution_count": 21,
     "metadata": {},
     "output_type": "execute_result"
    }
   ],
   "source": [
    "weights1"
   ]
  },
  {
   "cell_type": "code",
   "execution_count": 22,
   "id": "605c8b81",
   "metadata": {},
   "outputs": [],
   "source": [
    "gmm_generator1 = gaussian_mixture.GaussianMixture.from_mean_cov_component_weights(mean=means1,\n",
    "                                                                                 cov=covs1,\n",
    "                                                                                 component_weights=weights1)"
   ]
  },
  {
   "cell_type": "code",
   "execution_count": 23,
   "id": "5063fddd",
   "metadata": {},
   "outputs": [],
   "source": [
    "samples1 = gmm_generator1.sample(key=keys[-1], size=sample_size)"
   ]
  },
  {
   "cell_type": "code",
   "execution_count": 24,
   "id": "20c4d552",
   "metadata": {},
   "outputs": [
    {
     "data": {
      "image/png": "[encoded data removed]",
      "text/plain": [
       "<Figure size 432x288 with 1 Axes>"
      ]
     },
     "metadata": {
      "needs_background": "light"
     },
     "output_type": "display_data"
    }
   ],
   "source": [
    "# Plot samples\n",
    "plt.scatter(samples1[:, 0], samples1[:, 1], marker='.', alpha=0.25)\n",
    "plt.show()"
   ]
  },
  {
   "cell_type": "code",
   "execution_count": 25,
   "id": "e4d902bc",
   "metadata": {},
   "outputs": [
    {
     "data": {
      "text/plain": [
       "(2000, 2)"
      ]
     },
     "execution_count": 25,
     "metadata": {},
     "output_type": "execute_result"
    }
   ],
   "source": [
    "samples1.shape"
   ]
  },
  {
   "cell_type": "markdown",
   "id": "49631a68",
   "metadata": {},
   "source": [
    "# Generate second GMM "
   ]
  },
  {
   "cell_type": "code",
   "execution_count": 26,
   "id": "be8cda1b",
   "metadata": {},
   "outputs": [],
   "source": [
    "means2 = jnp.asarray([jax.random.randint(key=keys[i + num_of_components], shape=(d,), minval=-10, maxval=10) for i in range(num_of_components)])"
   ]
  },
  {
   "cell_type": "code",
   "execution_count": 27,
   "id": "2da375b6",
   "metadata": {},
   "outputs": [],
   "source": [
    "covs2 = jnp.asarray([make_spd_matrix(n_dim=d, random_state=seeds[i])\n",
    "                    for i in range(num_of_components)])"
   ]
  },
  {
   "cell_type": "code",
   "execution_count": 28,
   "id": "0fa53860",
   "metadata": {},
   "outputs": [],
   "source": [
    "weights2 = jnp.asarray([0.3, 0.3, 0.4]) # auto 8a einai to antistoixo histogram"
   ]
  },
  {
   "cell_type": "code",
   "execution_count": 29,
   "id": "ccfdfffe",
   "metadata": {},
   "outputs": [],
   "source": [
    "gmm_generator2 = gaussian_mixture.GaussianMixture.from_mean_cov_component_weights(mean=means2,\n",
    "                                                                                 cov=covs2,\n",
    "                                                                                 component_weights=weights2)"
   ]
  },
  {
   "cell_type": "code",
   "execution_count": 30,
   "id": "8ab077f9",
   "metadata": {},
   "outputs": [],
   "source": [
    "samples2 = gmm_generator2.sample(key=keys[-2], size=sample_size)"
   ]
  },
  {
   "cell_type": "code",
   "execution_count": 31,
   "id": "2a86781e",
   "metadata": {},
   "outputs": [
    {
     "data": {
      "image/png": "[encoded data removed]",
      "text/plain": [
       "<Figure size 432x288 with 1 Axes>"
      ]
     },
     "metadata": {
      "needs_background": "light"
     },
     "output_type": "display_data"
    }
   ],
   "source": [
    "# Plot samples\n",
    "plt.scatter(samples1[:, 0], samples1[:, 1], marker='.', alpha=0.25, c='b')\n",
    "plt.scatter(samples2[:, 0], samples2[:, 1], marker='.', alpha=0.25, c='r')\n",
    "plt.show()"
   ]
  },
  {
   "cell_type": "code",
   "execution_count": 32,
   "id": "7cecc0d3",
   "metadata": {},
   "outputs": [
    {
     "data": {
      "text/plain": [
       "DeviceArray([6, 8], dtype=int32)"
      ]
     },
     "execution_count": 32,
     "metadata": {},
     "output_type": "execute_result"
    }
   ],
   "source": [
    "means1[0]"
   ]
  },
  {
   "cell_type": "code",
   "execution_count": 33,
   "id": "376a92fc",
   "metadata": {},
   "outputs": [
    {
     "data": {
      "text/plain": [
       "DeviceArray([[ 2.2550676 , -0.47762507],\n",
       "             [-0.47762507,  0.495635  ]], dtype=float32)"
      ]
     },
     "execution_count": 33,
     "metadata": {},
     "output_type": "execute_result"
    }
   ],
   "source": [
    "covs1[0]"
   ]
  },
  {
   "cell_type": "code",
   "execution_count": 34,
   "id": "1047e7fa",
   "metadata": {},
   "outputs": [
    {
     "data": {
      "text/plain": [
       "DeviceArray([ 6.        ,  8.        ,  2.2550676 , -0.47762507,\n",
       "             -0.47762507,  0.495635  ], dtype=float32)"
      ]
     },
     "execution_count": 34,
     "metadata": {},
     "output_type": "execute_result"
    }
   ],
   "source": [
    "jnp.concatenate((means1[0], jnp.reshape(covs1[0], (d * d, ))))"
   ]
  },
  {
   "cell_type": "code",
   "execution_count": 35,
   "id": "e06bb295",
   "metadata": {},
   "outputs": [],
   "source": [
    "pointcloud1 = jnp.asarray([jnp.concatenate((means1[i], jnp.reshape(covs1[i], (d * d, )))) for i in range(num_of_components)])"
   ]
  },
  {
   "cell_type": "code",
   "execution_count": 36,
   "id": "ef595aa6",
   "metadata": {},
   "outputs": [
    {
     "data": {
      "text/plain": [
       "(3, 6)"
      ]
     },
     "execution_count": 36,
     "metadata": {},
     "output_type": "execute_result"
    }
   ],
   "source": [
    "pointcloud1 .shape"
   ]
  },
  {
   "cell_type": "code",
   "execution_count": 37,
   "id": "61123bd6",
   "metadata": {},
   "outputs": [],
   "source": [
    "pointcloud2 = jnp.asarray([jnp.concatenate((means2[i], jnp.reshape(covs2[i], (d * d, )))) for i in range(num_of_components)])"
   ]
  },
  {
   "cell_type": "code",
   "execution_count": 38,
   "id": "3948df5e",
   "metadata": {},
   "outputs": [
    {
     "data": {
      "text/plain": [
       "(3, 6)"
      ]
     },
     "execution_count": 38,
     "metadata": {},
     "output_type": "execute_result"
    }
   ],
   "source": [
    "pointcloud2 .shape"
   ]
  },
  {
   "cell_type": "code",
   "execution_count": 39,
   "id": "196d917b",
   "metadata": {},
   "outputs": [],
   "source": [
    "y = jnp.concatenate((pointcloud1, pointcloud2))"
   ]
  },
  {
   "cell_type": "code",
   "execution_count": 40,
   "id": "1ef3f294",
   "metadata": {},
   "outputs": [
    {
     "data": {
      "text/plain": [
       "(6, 6)"
      ]
     },
     "execution_count": 40,
     "metadata": {},
     "output_type": "execute_result"
    }
   ],
   "source": [
    "y.shape"
   ]
  },
  {
   "cell_type": "code",
   "execution_count": 41,
   "id": "8dc8cc9e",
   "metadata": {},
   "outputs": [],
   "source": [
    "bar_p = bar_problems.BarycenterProblem(\n",
    "      y, num_per_segment=jnp.asarray([num_of_components, num_of_components]), num_segments=2, max_measure_size=num_of_components,\n",
    "      epsilon=0.01)"
   ]
  },
  {
   "cell_type": "code",
   "execution_count": 42,
   "id": "e0a1a166",
   "metadata": {},
   "outputs": [],
   "source": [
    "solver = continuous_barycenter.WassersteinBarycenter()"
   ]
  },
  {
   "cell_type": "code",
   "execution_count": 43,
   "id": "f4267f01",
   "metadata": {},
   "outputs": [],
   "source": [
    "bar_size = 2\n",
    "weights_bary = jnp.ones(bar_size) / bar_size\n",
    "out = solver(bar_p, bar_size=bar_size)"
   ]
  },
  {
   "cell_type": "code",
   "execution_count": 44,
   "id": "9433fd4d",
   "metadata": {},
   "outputs": [],
   "source": [
    "barycenter = out.x"
   ]
  },
  {
   "cell_type": "code",
   "execution_count": 45,
   "id": "fca06035",
   "metadata": {},
   "outputs": [
    {
     "data": {
      "text/plain": [
       "DeviceArray([[-4.        , -7.5       ,  2.2319188 ,  0.7154857 ,\n",
       "               0.7154857 ,  0.7848196 ],\n",
       "             [ 4.000036  ,  5.75      ,  2.2434921 ,  0.1189383 ,\n",
       "               0.1189383 ,  0.64023054]], dtype=float32)"
      ]
     },
     "execution_count": 45,
     "metadata": {},
     "output_type": "execute_result"
    }
   ],
   "source": [
    "barycenter"
   ]
  },
  {
   "cell_type": "code",
   "execution_count": 46,
   "id": "bfac37e4",
   "metadata": {},
   "outputs": [],
   "source": [
    "bary_mean1 = barycenter[0][0:d]"
   ]
  },
  {
   "cell_type": "code",
   "execution_count": 47,
   "id": "53eb2263",
   "metadata": {},
   "outputs": [
    {
     "data": {
      "text/plain": [
       "DeviceArray([-4. , -7.5], dtype=float32)"
      ]
     },
     "execution_count": 47,
     "metadata": {},
     "output_type": "execute_result"
    }
   ],
   "source": [
    "bary_mean1"
   ]
  },
  {
   "cell_type": "code",
   "execution_count": 48,
   "id": "a82c4c31",
   "metadata": {},
   "outputs": [],
   "source": [
    "bary_cov1 = barycenter[0][d:]"
   ]
  },
  {
   "cell_type": "code",
   "execution_count": 49,
   "id": "69d1dba5",
   "metadata": {},
   "outputs": [],
   "source": [
    "bary_covariance1 = jnp.reshape(bary_cov1, (d, d))"
   ]
  },
  {
   "cell_type": "code",
   "execution_count": 50,
   "id": "9fb2de42",
   "metadata": {},
   "outputs": [
    {
     "data": {
      "text/plain": [
       "DeviceArray([[2.2319188, 0.7154857],\n",
       "             [0.7154857, 0.7848196]], dtype=float32)"
      ]
     },
     "execution_count": 50,
     "metadata": {},
     "output_type": "execute_result"
    }
   ],
   "source": [
    "bary_covariance1"
   ]
  },
  {
   "cell_type": "code",
   "execution_count": 51,
   "id": "708beebe",
   "metadata": {},
   "outputs": [],
   "source": [
    "bary_mean2 = barycenter[1][0:d]"
   ]
  },
  {
   "cell_type": "code",
   "execution_count": 52,
   "id": "efa80b63",
   "metadata": {},
   "outputs": [],
   "source": [
    "bary_covariance2 = jnp.reshape(barycenter[1][d:], (d, d))"
   ]
  },
  {
   "cell_type": "code",
   "execution_count": 53,
   "id": "349a3e32",
   "metadata": {},
   "outputs": [],
   "source": [
    "means_bary = jnp.asarray([bary_mean1, bary_mean2])"
   ]
  },
  {
   "cell_type": "code",
   "execution_count": 54,
   "id": "e5a57488",
   "metadata": {},
   "outputs": [
    {
     "data": {
      "text/plain": [
       "DeviceArray([[-4.      , -7.5     ],\n",
       "             [ 4.000036,  5.75    ]], dtype=float32)"
      ]
     },
     "execution_count": 54,
     "metadata": {},
     "output_type": "execute_result"
    }
   ],
   "source": [
    "means_bary"
   ]
  },
  {
   "cell_type": "code",
   "execution_count": 55,
   "id": "6da61d6b",
   "metadata": {},
   "outputs": [],
   "source": [
    "covs_bary = jnp.asarray([bary_covariance1, bary_covariance2])"
   ]
  },
  {
   "cell_type": "code",
   "execution_count": 56,
   "id": "e592445c",
   "metadata": {},
   "outputs": [
    {
     "data": {
      "text/plain": [
       "DeviceArray([[[2.2319188 , 0.7154857 ],\n",
       "              [0.7154857 , 0.7848196 ]],\n",
       "\n",
       "             [[2.2434921 , 0.1189383 ],\n",
       "              [0.1189383 , 0.64023054]]], dtype=float32)"
      ]
     },
     "execution_count": 56,
     "metadata": {},
     "output_type": "execute_result"
    }
   ],
   "source": [
    "covs_bary"
   ]
  },
  {
   "cell_type": "code",
   "execution_count": 57,
   "id": "54f700e7",
   "metadata": {},
   "outputs": [],
   "source": [
    "gmm_generator_bary = gaussian_mixture.GaussianMixture.from_mean_cov_component_weights(mean=means_bary,\n",
    "                                                                                  cov=covs_bary,\n",
    "                                                                                  component_weights=weights_bary)"
   ]
  },
  {
   "cell_type": "code",
   "execution_count": 58,
   "id": "bad9bbd3",
   "metadata": {},
   "outputs": [],
   "source": [
    "samples_bary = gmm_generator_bary.sample(key=keys[-3], size=sample_size)"
   ]
  },
  {
   "cell_type": "code",
   "execution_count": 59,
   "id": "d55b8e96",
   "metadata": {},
   "outputs": [
    {
     "data": {
      "image/png": "[encoded data removed]",
      "text/plain": [
       "<Figure size 432x288 with 1 Axes>"
      ]
     },
     "metadata": {
      "needs_background": "light"
     },
     "output_type": "display_data"
    }
   ],
   "source": [
    "# Plot samples\n",
    "plt.scatter(samples1[:, 0], samples1[:, 1], marker='.', alpha=0.25, c='b')\n",
    "plt.scatter(samples2[:, 0], samples2[:, 1], marker='.', alpha=0.25, c='r')\n",
    "plt.scatter(samples_bary[:, 0], samples_bary[:, 1], marker='.', alpha=0.25, c='k')\n",
    "plt.show()"
   ]
  },
  {
   "cell_type": "code",
   "execution_count": 60,
   "id": "ac96d9cd",
   "metadata": {},
   "outputs": [
    {
     "data": {
      "text/plain": [
       "DeviceArray([[-4.        , -7.5       ,  2.2319188 ,  0.7154857 ,\n",
       "               0.7154857 ,  0.7848196 ],\n",
       "             [ 4.000036  ,  5.75      ,  2.2434921 ,  0.1189383 ,\n",
       "               0.1189383 ,  0.64023054]], dtype=float32)"
      ]
     },
     "execution_count": 60,
     "metadata": {},
     "output_type": "execute_result"
    }
   ],
   "source": [
    "barycenter"
   ]
  },
  {
   "cell_type": "code",
   "execution_count": 72,
   "id": "3666b2d2",
   "metadata": {},
   "outputs": [
    {
     "data": {
      "text/plain": [
       "DeviceArray([4.000036, 5.75    ], dtype=float32)"
      ]
     },
     "execution_count": 72,
     "metadata": {},
     "output_type": "execute_result"
    }
   ],
   "source": [
    "barycenter[1][0:d]"
   ]
  },
  {
   "cell_type": "code",
   "execution_count": 73,
   "id": "b3dc6836",
   "metadata": {},
   "outputs": [
    {
     "data": {
      "text/plain": [
       "(2, 6)"
      ]
     },
     "execution_count": 73,
     "metadata": {},
     "output_type": "execute_result"
    }
   ],
   "source": [
    "barycenter.shape"
   ]
  },
  {
   "cell_type": "code",
   "execution_count": 77,
   "id": "9875a839",
   "metadata": {},
   "outputs": [],
   "source": [
    "means = jnp.asarray([barycenter[i][0:d] for i in range(bar_size)])"
   ]
  },
  {
   "cell_type": "code",
   "execution_count": 78,
   "id": "593ac369",
   "metadata": {},
   "outputs": [
    {
     "data": {
      "text/plain": [
       "DeviceArray([[-4.      , -7.5     ],\n",
       "             [ 4.000036,  5.75    ]], dtype=float32)"
      ]
     },
     "execution_count": 78,
     "metadata": {},
     "output_type": "execute_result"
    }
   ],
   "source": [
    "means"
   ]
  },
  {
   "cell_type": "code",
   "execution_count": 90,
   "id": "bcfc234b",
   "metadata": {},
   "outputs": [],
   "source": [
    "covariances = jnp.asarray([jnp.reshape(barycenter[i][d:d+d**2], (d, d)) for i in range(bar_size)])"
   ]
  },
  {
   "cell_type": "code",
   "execution_count": 91,
   "id": "1d089896",
   "metadata": {},
   "outputs": [
    {
     "data": {
      "text/plain": [
       "DeviceArray([[[2.2319188 , 0.7154857 ],\n",
       "              [0.7154857 , 0.7848196 ]],\n",
       "\n",
       "             [[2.2434921 , 0.1189383 ],\n",
       "              [0.1189383 , 0.64023054]]], dtype=float32)"
      ]
     },
     "execution_count": 91,
     "metadata": {},
     "output_type": "execute_result"
    }
   ],
   "source": [
    "covariances"
   ]
  },
  {
   "cell_type": "code",
   "execution_count": 68,
   "id": "d333a47e",
   "metadata": {},
   "outputs": [],
   "source": [
    "# means = jnp.asarray([barycenter[:,i*d+i*d**2:(i+1)*d+i*d**2] for i in range(bar_size)])"
   ]
  },
  {
   "cell_type": "code",
   "execution_count": null,
   "id": "173f2556",
   "metadata": {},
   "outputs": [],
   "source": []
  }
 ],
 "metadata": {
  "kernelspec": {
   "display_name": "Python 3 (ipykernel)",
   "language": "python",
   "name": "python3"
  },
  "language_info": {
   "codemirror_mode": {
    "name": "ipython",
    "version": 3
   },
   "file_extension": ".py",
   "mimetype": "text/x-python",
   "name": "python",
   "nbconvert_exporter": "python",
   "pygments_lexer": "ipython3",
   "version": "3.9.13"
  }
 },
 "nbformat": 4,
 "nbformat_minor": 5
}
