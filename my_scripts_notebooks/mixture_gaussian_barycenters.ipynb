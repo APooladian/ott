{
 "cells": [
  {
   "cell_type": "code",
   "execution_count": 1,
   "id": "0d32ea6c",
   "metadata": {},
   "outputs": [],
   "source": [
    "import jax\n",
    "import jax.numpy as jnp\n",
    "import matplotlib.pyplot as plt\n",
    "%matplotlib inline"
   ]
  },
  {
   "cell_type": "code",
   "execution_count": 2,
   "id": "63b43451",
   "metadata": {},
   "outputs": [],
   "source": [
    "from sklearn.datasets import make_spd_matrix"
   ]
  },
  {
   "cell_type": "code",
   "execution_count": 3,
   "id": "2cf7ec54",
   "metadata": {},
   "outputs": [],
   "source": [
    "import sys\n",
    "sys.path.insert(1, '/Users/ersi/Documents/ott/')"
   ]
  },
  {
   "cell_type": "code",
   "execution_count": 4,
   "id": "a6cec1cd",
   "metadata": {},
   "outputs": [],
   "source": [
    "from ott.tools.gaussian_mixture import gaussian_mixture"
   ]
  },
  {
   "cell_type": "code",
   "execution_count": 5,
   "id": "4acf26b9",
   "metadata": {},
   "outputs": [],
   "source": [
    "from ott.core import bar_problems\n",
    "from ott.core import continuous_barycenter, sinkhorn\n",
    "from ott.geometry import costs, pointcloud\n",
    "from gauss_mixture_utils import gauss_mixture_mean_and_cov_to_pointcloud, gauss_mixture_pointcloud_to_mean_and_cov\n",
    "d = 2  # dimensionality"
   ]
  },
  {
   "cell_type": "code",
   "execution_count": 6,
   "id": "c22fec1a",
   "metadata": {},
   "outputs": [
    {
     "name": "stderr",
     "output_type": "stream",
     "text": [
      "WARNING:absl:No GPU/TPU found, falling back to CPU. (Set TF_CPP_MIN_LOG_LEVEL=0 and rerun for more info.)\n"
     ]
    }
   ],
   "source": [
    "key = jax.random.PRNGKey(0)"
   ]
  },
  {
   "cell_type": "code",
   "execution_count": 7,
   "id": "089d1107",
   "metadata": {},
   "outputs": [],
   "source": [
    "sample_size = 2000"
   ]
  },
  {
   "cell_type": "code",
   "execution_count": 8,
   "id": "c0b99c31",
   "metadata": {},
   "outputs": [],
   "source": [
    "num_of_components = 2"
   ]
  },
  {
   "cell_type": "code",
   "execution_count": 9,
   "id": "65a84094",
   "metadata": {},
   "outputs": [],
   "source": [
    "keys = jax.random.split(key, num=2*num_of_components+3)"
   ]
  },
  {
   "cell_type": "code",
   "execution_count": 10,
   "id": "ca6bcad1",
   "metadata": {},
   "outputs": [],
   "source": [
    "d = 2 # dimension"
   ]
  },
  {
   "cell_type": "code",
   "execution_count": 11,
   "id": "932e0885",
   "metadata": {},
   "outputs": [],
   "source": [
    "seeds = [2, 5, 12]"
   ]
  },
  {
   "cell_type": "code",
   "execution_count": 12,
   "id": "2ab02457",
   "metadata": {},
   "outputs": [],
   "source": [
    "means1 = jnp.asarray([jax.random.randint(key=keys[i], shape=(d,), minval=-10, maxval=10) for i in range(num_of_components)])"
   ]
  },
  {
   "cell_type": "code",
   "execution_count": 13,
   "id": "fec3be1f",
   "metadata": {},
   "outputs": [],
   "source": [
    "scale = 1 #1e-6"
   ]
  },
  {
   "cell_type": "code",
   "execution_count": 14,
   "id": "6fe676bb",
   "metadata": {},
   "outputs": [],
   "source": [
    "covs1 = scale * jnp.asarray([make_spd_matrix(n_dim=d, random_state=seeds[i])\n",
    "                    for i in range(num_of_components)])"
   ]
  },
  {
   "cell_type": "code",
   "execution_count": 15,
   "id": "3ea5124e",
   "metadata": {},
   "outputs": [],
   "source": [
    "# covs1 = scale * jnp.asarray([jnp.eye(d)\n",
    "#                     for i in range(num_of_components)])"
   ]
  },
  {
   "cell_type": "code",
   "execution_count": 16,
   "id": "a262a1ed",
   "metadata": {},
   "outputs": [],
   "source": [
    "weights1 = jnp.asarray([0.5, 0.5])"
   ]
  },
  {
   "cell_type": "code",
   "execution_count": 17,
   "id": "2f7571f6",
   "metadata": {},
   "outputs": [],
   "source": [
    "gmm_generator1 = gaussian_mixture.GaussianMixture.from_mean_cov_component_weights(mean=means1,\n",
    "                                                                                 cov=covs1,\n",
    "                                                                                 component_weights=weights1)"
   ]
  },
  {
   "cell_type": "code",
   "execution_count": 18,
   "id": "13ccdce4",
   "metadata": {},
   "outputs": [],
   "source": [
    "samples1 = gmm_generator1.sample(key=keys[-1], size=sample_size)"
   ]
  },
  {
   "cell_type": "code",
   "execution_count": 19,
   "id": "79fe37c0",
   "metadata": {},
   "outputs": [],
   "source": [
    "means2 = jnp.asarray([jax.random.randint(key=keys[i + num_of_components], shape=(d,), minval=-10, maxval=10) for i in range(num_of_components)])"
   ]
  },
  {
   "cell_type": "code",
   "execution_count": 20,
   "id": "7d182483",
   "metadata": {},
   "outputs": [],
   "source": [
    "covs2 = scale * jnp.asarray([make_spd_matrix(n_dim=d, random_state=seeds[i])\n",
    "                    for i in range(num_of_components)])"
   ]
  },
  {
   "cell_type": "code",
   "execution_count": 21,
   "id": "c1726bc5",
   "metadata": {},
   "outputs": [],
   "source": [
    "# covs2 = scale * jnp.asarray([jnp.eye(d)\n",
    "#                     for i in range(num_of_components)])"
   ]
  },
  {
   "cell_type": "code",
   "execution_count": 22,
   "id": "2e7edb11",
   "metadata": {},
   "outputs": [],
   "source": [
    "weights2 = jnp.asarray([0.5, 0.5])"
   ]
  },
  {
   "cell_type": "code",
   "execution_count": 23,
   "id": "40d3951c",
   "metadata": {},
   "outputs": [],
   "source": [
    "gmm_generator2 = gaussian_mixture.GaussianMixture.from_mean_cov_component_weights(mean=means2,\n",
    "                                                                                 cov=covs2,\n",
    "                                                                                 component_weights=weights2)"
   ]
  },
  {
   "cell_type": "code",
   "execution_count": 24,
   "id": "45407bdf",
   "metadata": {},
   "outputs": [],
   "source": [
    "samples2 = gmm_generator2.sample(key=keys[-2], size=sample_size)"
   ]
  },
  {
   "cell_type": "code",
   "execution_count": 25,
   "id": "4424ecb0",
   "metadata": {},
   "outputs": [],
   "source": [
    "pointcloud1 = gauss_mixture_mean_and_cov_to_pointcloud(means=means1, covariances=covs1, dimension=d, num_components=num_of_components)"
   ]
  },
  {
   "cell_type": "code",
   "execution_count": 26,
   "id": "ec5a0a42",
   "metadata": {},
   "outputs": [],
   "source": [
    "pointcloud2 = gauss_mixture_mean_and_cov_to_pointcloud(means=means2, covariances=covs2, dimension=d, num_components=num_of_components)"
   ]
  },
  {
   "cell_type": "code",
   "execution_count": 27,
   "id": "e99d52be",
   "metadata": {},
   "outputs": [],
   "source": [
    "y = jnp.concatenate((pointcloud1, pointcloud2))"
   ]
  },
  {
   "cell_type": "code",
   "execution_count": 28,
   "id": "0b69291f",
   "metadata": {},
   "outputs": [],
   "source": [
    "b = jnp.concatenate((weights1, weights2))"
   ]
  },
  {
   "cell_type": "code",
   "execution_count": 29,
   "id": "0c24d2bd",
   "metadata": {},
   "outputs": [
    {
     "data": {
      "text/plain": [
       "DeviceArray([0.5, 0.5, 0.5, 0.5], dtype=float32)"
      ]
     },
     "execution_count": 29,
     "metadata": {},
     "output_type": "execute_result"
    }
   ],
   "source": [
    "b"
   ]
  },
  {
   "cell_type": "code",
   "execution_count": 30,
   "id": "62bf4986",
   "metadata": {},
   "outputs": [],
   "source": [
    "epsilon = 1 #0.001"
   ]
  },
  {
   "cell_type": "code",
   "execution_count": 31,
   "id": "81d7fdd3",
   "metadata": {},
   "outputs": [],
   "source": [
    "weights = jnp.asarray([1,0])"
   ]
  },
  {
   "cell_type": "code",
   "execution_count": 32,
   "id": "7529179c",
   "metadata": {},
   "outputs": [
    {
     "data": {
      "text/plain": [
       "2"
      ]
     },
     "execution_count": 32,
     "metadata": {},
     "output_type": "execute_result"
    }
   ],
   "source": [
    "weights.shape[0]"
   ]
  },
  {
   "cell_type": "code",
   "execution_count": 33,
   "id": "d7efd868",
   "metadata": {},
   "outputs": [],
   "source": [
    "bar_p = bar_problems.BarycenterProblem(\n",
    "      y, b, weights, num_per_segment=jnp.asarray([num_of_components, num_of_components]), num_segments=2, max_measure_size=num_of_components,\n",
    "      cost_fn = costs.Bures(dimension=d),\n",
    "      epsilon=epsilon, debiased=False)"
   ]
  },
  {
   "cell_type": "code",
   "execution_count": 34,
   "id": "c221c36b",
   "metadata": {},
   "outputs": [],
   "source": [
    "solver = continuous_barycenter.WassersteinBarycenter(lse_mode=True)"
   ]
  },
  {
   "cell_type": "code",
   "execution_count": 35,
   "id": "5257ffa5",
   "metadata": {},
   "outputs": [],
   "source": [
    "bar_size = 2\n",
    "weights_bary = jnp.ones(bar_size) / bar_size\n",
    "# weights_bary = jnp.asarray([1, 0])\n",
    "out = solver(bar_p, bar_size=bar_size)\n",
    "barycenter = out.x"
   ]
  },
  {
   "cell_type": "code",
   "execution_count": 36,
   "id": "2d9ce87f",
   "metadata": {},
   "outputs": [],
   "source": [
    "means_bary, covs_bary = gauss_mixture_pointcloud_to_mean_and_cov(pointcloud=barycenter, dimension=d, num_components=bar_size)"
   ]
  },
  {
   "cell_type": "code",
   "execution_count": 37,
   "id": "3b891e17",
   "metadata": {},
   "outputs": [],
   "source": [
    "gmm_generator_bary = gaussian_mixture.GaussianMixture.from_mean_cov_component_weights(mean=means_bary,\n",
    "                                                                                      cov=covs_bary,\n",
    "                                                                                      component_weights=weights_bary)"
   ]
  },
  {
   "cell_type": "code",
   "execution_count": 38,
   "id": "f2cc15f8",
   "metadata": {},
   "outputs": [],
   "source": [
    "samples_bary = gmm_generator_bary.sample(key=keys[-3], size=sample_size)"
   ]
  },
  {
   "cell_type": "code",
   "execution_count": 39,
   "id": "48ed49f8",
   "metadata": {},
   "outputs": [
    {
     "data": {
      "image/png": "[encoded data removed]",
      "text/plain": [
       "<Figure size 432x288 with 1 Axes>"
      ]
     },
     "metadata": {
      "needs_background": "light"
     },
     "output_type": "display_data"
    }
   ],
   "source": [
    "# Plot samples\n",
    "plt.scatter(samples1[:, 0], samples1[:, 1], marker='.', alpha=0.25, c='b')\n",
    "plt.scatter(samples2[:, 0], samples2[:, 1], marker='.', alpha=0.25, c='r')\n",
    "plt.scatter(samples_bary[:, 0], samples_bary[:, 1], marker='.', alpha=0.25, c='k')\n",
    "plt.show()"
   ]
  },
  {
   "cell_type": "code",
   "execution_count": 40,
   "id": "36d5aa48",
   "metadata": {},
   "outputs": [
    {
     "data": {
      "text/plain": [
       "DeviceArray([[-1.0000000e+00,  1.5000000e+00],\n",
       "             [-8.3116418e-17, -3.0000014e+00]], dtype=float32)"
      ]
     },
     "execution_count": 40,
     "metadata": {},
     "output_type": "execute_result"
    }
   ],
   "source": [
    "means_bary"
   ]
  },
  {
   "cell_type": "code",
   "execution_count": 41,
   "id": "2086c9c8",
   "metadata": {},
   "outputs": [
    {
     "data": {
      "text/plain": [
       "DeviceArray([[-2,  3],\n",
       "             [ 0, -6]], dtype=int32)"
      ]
     },
     "execution_count": 41,
     "metadata": {},
     "output_type": "execute_result"
    }
   ],
   "source": [
    "means1"
   ]
  },
  {
   "cell_type": "code",
   "execution_count": 42,
   "id": "4c1635d9",
   "metadata": {},
   "outputs": [
    {
     "data": {
      "text/plain": [
       "DeviceArray([[-1, -4],\n",
       "             [ 7,  2]], dtype=int32)"
      ]
     },
     "execution_count": 42,
     "metadata": {},
     "output_type": "execute_result"
    }
   ],
   "source": [
    "means2"
   ]
  },
  {
   "cell_type": "code",
   "execution_count": 43,
   "id": "557c16dc",
   "metadata": {},
   "outputs": [],
   "source": [
    "geom1 = pointcloud.PointCloud(barycenter, pointcloud1, epsilon=epsilon)\n",
    "out1 = sinkhorn.sinkhorn(geom1, weights_bary, weights1)\n",
    "P1 = geom1.transport_from_potentials(out1.f, out1.g)"
   ]
  },
  {
   "cell_type": "code",
   "execution_count": 44,
   "id": "add7f9b6",
   "metadata": {},
   "outputs": [
    {
     "data": {
      "text/plain": [
       "(2, 2)"
      ]
     },
     "execution_count": 44,
     "metadata": {},
     "output_type": "execute_result"
    }
   ],
   "source": [
    "P1.shape"
   ]
  },
  {
   "cell_type": "code",
   "execution_count": 45,
   "id": "92b184e8",
   "metadata": {},
   "outputs": [],
   "source": [
    "geom2 = pointcloud.PointCloud(barycenter, pointcloud2, epsilon=epsilon)\n",
    "out2 = sinkhorn.sinkhorn(geom2, weights_bary, weights2)\n",
    "P2 = geom2.transport_from_potentials(out2.f, out2.g)"
   ]
  },
  {
   "cell_type": "code",
   "execution_count": 46,
   "id": "ae10c527",
   "metadata": {},
   "outputs": [
    {
     "data": {
      "text/plain": [
       "DeviceArray([-2,  3], dtype=int32)"
      ]
     },
     "execution_count": 46,
     "metadata": {},
     "output_type": "execute_result"
    }
   ],
   "source": [
    "means1[0]"
   ]
  },
  {
   "cell_type": "code",
   "execution_count": 47,
   "id": "f64a9d00",
   "metadata": {},
   "outputs": [],
   "source": [
    "B11_mean = P1[0,0] * means1[0] + P1[0,1] * means1[1]"
   ]
  },
  {
   "cell_type": "code",
   "execution_count": 48,
   "id": "58c16a1d",
   "metadata": {},
   "outputs": [],
   "source": [
    "B21_mean = P1[1,0] * means2[0] + P1[1,1] * means2[1]"
   ]
  },
  {
   "cell_type": "code",
   "execution_count": 49,
   "id": "c5aef20a",
   "metadata": {},
   "outputs": [],
   "source": [
    "B12_mean = P2[0,0] * means1[0] + P2[0,1] * means1[1]"
   ]
  },
  {
   "cell_type": "code",
   "execution_count": 50,
   "id": "2276dabd",
   "metadata": {},
   "outputs": [],
   "source": [
    "B22_mean = P2[1,0] * means2[0] + P2[1,1] * means2[1]"
   ]
  },
  {
   "cell_type": "code",
   "execution_count": 51,
   "id": "b98f5750",
   "metadata": {},
   "outputs": [],
   "source": [
    "mean1 = weights[0] * B11_mean + weights[1] * B21_mean"
   ]
  },
  {
   "cell_type": "code",
   "execution_count": 52,
   "id": "58b65843",
   "metadata": {},
   "outputs": [],
   "source": [
    "mean2 = weights[0] * B12_mean + weights[1] * B22_mean"
   ]
  },
  {
   "cell_type": "code",
   "execution_count": 53,
   "id": "469559b6",
   "metadata": {},
   "outputs": [
    {
     "data": {
      "text/plain": [
       "DeviceArray([-1. ,  1.5], dtype=float32)"
      ]
     },
     "execution_count": 53,
     "metadata": {},
     "output_type": "execute_result"
    }
   ],
   "source": [
    "mean1"
   ]
  },
  {
   "cell_type": "code",
   "execution_count": 54,
   "id": "bb260268",
   "metadata": {},
   "outputs": [
    {
     "data": {
      "text/plain": [
       "DeviceArray([-1.1930451e-12, -3.0000043e+00], dtype=float32)"
      ]
     },
     "execution_count": 54,
     "metadata": {},
     "output_type": "execute_result"
    }
   ],
   "source": [
    "mean2"
   ]
  },
  {
   "cell_type": "code",
   "execution_count": 55,
   "id": "0d56627c",
   "metadata": {},
   "outputs": [
    {
     "data": {
      "text/plain": [
       "DeviceArray([[-1.0000000e+00,  1.5000000e+00],\n",
       "             [-8.3116418e-17, -3.0000014e+00]], dtype=float32)"
      ]
     },
     "execution_count": 55,
     "metadata": {},
     "output_type": "execute_result"
    }
   ],
   "source": [
    "means_bary"
   ]
  },
  {
   "cell_type": "code",
   "execution_count": 56,
   "id": "ca4d2f71",
   "metadata": {},
   "outputs": [
    {
     "data": {
      "text/plain": [
       "DeviceArray([[[ 0.5637669 , -0.1194063 ],\n",
       "              [-0.11940618,  0.1239088 ]],\n",
       "\n",
       "             [[ 0.51441246,  0.2159538 ],\n",
       "              [ 0.21595384,  0.26062712]]], dtype=float32)"
      ]
     },
     "execution_count": 56,
     "metadata": {},
     "output_type": "execute_result"
    }
   ],
   "source": [
    "covs_bary"
   ]
  },
  {
   "cell_type": "code",
   "execution_count": 57,
   "id": "4250af74",
   "metadata": {},
   "outputs": [
    {
     "data": {
      "text/plain": [
       "DeviceArray([[[ 2.2550676 , -0.47762507],\n",
       "              [-0.47762507,  0.495635  ]],\n",
       "\n",
       "             [[ 2.057648  ,  0.8638142 ],\n",
       "              [ 0.8638142 ,  1.042507  ]]], dtype=float32)"
      ]
     },
     "execution_count": 57,
     "metadata": {},
     "output_type": "execute_result"
    }
   ],
   "source": [
    "covs1"
   ]
  },
  {
   "cell_type": "code",
   "execution_count": 58,
   "id": "df75930e",
   "metadata": {},
   "outputs": [
    {
     "data": {
      "text/plain": [
       "DeviceArray([[[ 2.2550676 , -0.47762507],\n",
       "              [-0.47762507,  0.495635  ]],\n",
       "\n",
       "             [[ 2.057648  ,  0.8638142 ],\n",
       "              [ 0.8638142 ,  1.042507  ]]], dtype=float32)"
      ]
     },
     "execution_count": 58,
     "metadata": {},
     "output_type": "execute_result"
    }
   ],
   "source": [
    "covs2"
   ]
  },
  {
   "cell_type": "code",
   "execution_count": null,
   "id": "51055e93",
   "metadata": {},
   "outputs": [],
   "source": []
  }
 ],
 "metadata": {
  "kernelspec": {
   "display_name": "Python 3 (ipykernel)",
   "language": "python",
   "name": "python3"
  },
  "language_info": {
   "codemirror_mode": {
    "name": "ipython",
    "version": 3
   },
   "file_extension": ".py",
   "mimetype": "text/x-python",
   "name": "python",
   "nbconvert_exporter": "python",
   "pygments_lexer": "ipython3",
   "version": "3.9.13"
  }
 },
 "nbformat": 4,
 "nbformat_minor": 5
}
