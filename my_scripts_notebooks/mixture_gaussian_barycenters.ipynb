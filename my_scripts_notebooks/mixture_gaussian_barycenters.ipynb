{
 "cells": [
  {
   "cell_type": "code",
   "execution_count": 1,
   "id": "abe323a6",
   "metadata": {},
   "outputs": [],
   "source": [
    "import jax\n",
    "import jax.numpy as jnp\n",
    "import matplotlib.pyplot as plt\n",
    "%matplotlib inline"
   ]
  },
  {
   "cell_type": "code",
   "execution_count": 2,
   "id": "140f124f",
   "metadata": {},
   "outputs": [],
   "source": [
    "from sklearn.datasets import make_spd_matrix"
   ]
  },
  {
   "cell_type": "code",
   "execution_count": 3,
   "id": "bd33dfd6",
   "metadata": {},
   "outputs": [],
   "source": [
    "import sys\n",
    "sys.path.insert(1, '/Users/ersi/Documents/ott/')"
   ]
  },
  {
   "cell_type": "code",
   "execution_count": 4,
   "id": "6031b00b",
   "metadata": {},
   "outputs": [],
   "source": [
    "from ott.tools.gaussian_mixture import gaussian_mixture"
   ]
  },
  {
   "cell_type": "code",
   "execution_count": 5,
   "id": "a1bd1430",
   "metadata": {},
   "outputs": [],
   "source": [
    "from ott.core import bar_problems\n",
    "from ott.core import continuous_barycenter\n",
    "from ott.geometry import costs\n",
    "from gauss_mixture_utils import gauss_mixture_mean_and_cov_to_pointcloud, gauss_mixture_pointcloud_to_mean_and_cov\n",
    "d = 2  # dimensionality"
   ]
  },
  {
   "cell_type": "code",
   "execution_count": 6,
   "id": "9a2708af",
   "metadata": {},
   "outputs": [
    {
     "name": "stderr",
     "output_type": "stream",
     "text": [
      "WARNING:absl:No GPU/TPU found, falling back to CPU. (Set TF_CPP_MIN_LOG_LEVEL=0 and rerun for more info.)\n"
     ]
    }
   ],
   "source": [
    "key = jax.random.PRNGKey(0)"
   ]
  },
  {
   "cell_type": "code",
   "execution_count": 7,
   "id": "abcfaa7a",
   "metadata": {},
   "outputs": [],
   "source": [
    "sample_size = 2000"
   ]
  },
  {
   "cell_type": "code",
   "execution_count": 8,
   "id": "308a57e7",
   "metadata": {},
   "outputs": [],
   "source": [
    "num_of_components = 2"
   ]
  },
  {
   "cell_type": "code",
   "execution_count": 9,
   "id": "8e092721",
   "metadata": {},
   "outputs": [],
   "source": [
    "keys = jax.random.split(key, num=2*num_of_components+3)"
   ]
  },
  {
   "cell_type": "code",
   "execution_count": 10,
   "id": "d596c4f2",
   "metadata": {},
   "outputs": [],
   "source": [
    "d = 2 # dimension"
   ]
  },
  {
   "cell_type": "code",
   "execution_count": 11,
   "id": "52b11ec4",
   "metadata": {},
   "outputs": [],
   "source": [
    "seeds = [2, 5, 12]"
   ]
  },
  {
   "cell_type": "code",
   "execution_count": 12,
   "id": "7b532cc6",
   "metadata": {},
   "outputs": [],
   "source": [
    "means1 = jnp.asarray([jax.random.randint(key=keys[i], shape=(d,), minval=-10, maxval=10) for i in range(num_of_components)])"
   ]
  },
  {
   "cell_type": "code",
   "execution_count": 13,
   "id": "3a0309a1",
   "metadata": {},
   "outputs": [],
   "source": [
    "covs1 = 1 * jnp.asarray([make_spd_matrix(n_dim=d, random_state=seeds[i])\n",
    "                    for i in range(num_of_components)])"
   ]
  },
  {
   "cell_type": "code",
   "execution_count": 14,
   "id": "7f264928",
   "metadata": {},
   "outputs": [],
   "source": [
    "#weights1 = jnp.asarray([0.3, 0.3, 0.4])"
   ]
  },
  {
   "cell_type": "code",
   "execution_count": 15,
   "id": "861ce65b",
   "metadata": {},
   "outputs": [],
   "source": [
    "weights1 = jnp.asarray([0.5, 0.5])"
   ]
  },
  {
   "cell_type": "code",
   "execution_count": 16,
   "id": "d2b51c08",
   "metadata": {},
   "outputs": [],
   "source": [
    "gmm_generator1 = gaussian_mixture.GaussianMixture.from_mean_cov_component_weights(mean=means1,\n",
    "                                                                                 cov=covs1,\n",
    "                                                                                 component_weights=weights1)"
   ]
  },
  {
   "cell_type": "code",
   "execution_count": 17,
   "id": "3a8463db",
   "metadata": {},
   "outputs": [],
   "source": [
    "samples1 = gmm_generator1.sample(key=keys[-1], size=sample_size)"
   ]
  },
  {
   "cell_type": "code",
   "execution_count": 18,
   "id": "db98165c",
   "metadata": {},
   "outputs": [],
   "source": [
    "means2 = jnp.asarray([jax.random.randint(key=keys[i + num_of_components], shape=(d,), minval=-10, maxval=10) for i in range(num_of_components)])"
   ]
  },
  {
   "cell_type": "code",
   "execution_count": 19,
   "id": "f8131b72",
   "metadata": {},
   "outputs": [],
   "source": [
    "covs2 = 1 * jnp.asarray([make_spd_matrix(n_dim=d, random_state=seeds[i])\n",
    "                    for i in range(num_of_components)])"
   ]
  },
  {
   "cell_type": "code",
   "execution_count": 20,
   "id": "1adce22b",
   "metadata": {},
   "outputs": [],
   "source": [
    "# weights2 = jnp.asarray([0.3, 0.3, 0.4])"
   ]
  },
  {
   "cell_type": "code",
   "execution_count": 21,
   "id": "183f682f",
   "metadata": {},
   "outputs": [],
   "source": [
    "weights2 = jnp.asarray([0.5, 0.5])"
   ]
  },
  {
   "cell_type": "code",
   "execution_count": 22,
   "id": "15c8ed09",
   "metadata": {},
   "outputs": [],
   "source": [
    "gmm_generator2 = gaussian_mixture.GaussianMixture.from_mean_cov_component_weights(mean=means2,\n",
    "                                                                                 cov=covs2,\n",
    "                                                                                 component_weights=weights2)"
   ]
  },
  {
   "cell_type": "code",
   "execution_count": 23,
   "id": "0ee73085",
   "metadata": {},
   "outputs": [],
   "source": [
    "samples2 = gmm_generator2.sample(key=keys[-2], size=sample_size)"
   ]
  },
  {
   "cell_type": "code",
   "execution_count": 24,
   "id": "05c271ae",
   "metadata": {},
   "outputs": [],
   "source": [
    "pointcloud1 = gauss_mixture_mean_and_cov_to_pointcloud(means=means1, covariances=covs1, dimension=d, num_components=num_of_components)"
   ]
  },
  {
   "cell_type": "code",
   "execution_count": 25,
   "id": "cf938da9",
   "metadata": {},
   "outputs": [],
   "source": [
    "pointcloud2 = gauss_mixture_mean_and_cov_to_pointcloud(means=means2, covariances=covs2, dimension=d, num_components=num_of_components)"
   ]
  },
  {
   "cell_type": "code",
   "execution_count": 26,
   "id": "7590c1eb",
   "metadata": {},
   "outputs": [],
   "source": [
    "y = jnp.concatenate((pointcloud1, pointcloud2))"
   ]
  },
  {
   "cell_type": "code",
   "execution_count": 27,
   "id": "ba52bd14",
   "metadata": {},
   "outputs": [],
   "source": [
    "b = jnp.concatenate((weights1, weights2))"
   ]
  },
  {
   "cell_type": "code",
   "execution_count": 28,
   "id": "7f81f196",
   "metadata": {},
   "outputs": [
    {
     "data": {
      "text/plain": [
       "DeviceArray([0.5, 0.5, 0.5, 0.5], dtype=float32)"
      ]
     },
     "execution_count": 28,
     "metadata": {},
     "output_type": "execute_result"
    }
   ],
   "source": [
    "b"
   ]
  },
  {
   "cell_type": "code",
   "execution_count": 29,
   "id": "eac294e7",
   "metadata": {},
   "outputs": [],
   "source": [
    "bar_p = bar_problems.BarycenterProblem(\n",
    "      y, b, num_per_segment=jnp.asarray([num_of_components, num_of_components]), num_segments=2, max_measure_size=num_of_components,\n",
    "      cost_fn = costs.Bures(dimension=d),\n",
    "      epsilon=0.1)"
   ]
  },
  {
   "cell_type": "code",
   "execution_count": 30,
   "id": "539f3e23",
   "metadata": {},
   "outputs": [],
   "source": [
    "solver = continuous_barycenter.WassersteinBarycenter()"
   ]
  },
  {
   "cell_type": "code",
   "execution_count": 31,
   "id": "ddc98901",
   "metadata": {},
   "outputs": [],
   "source": [
    "bar_size = 2\n",
    "weights_bary = jnp.ones(bar_size) / bar_size\n",
    "out = solver(bar_p, bar_size=bar_size)\n",
    "barycenter = out.x"
   ]
  },
  {
   "cell_type": "code",
   "execution_count": 32,
   "id": "6e192766",
   "metadata": {},
   "outputs": [],
   "source": [
    "means_bary, covs_bary = gauss_mixture_pointcloud_to_mean_and_cov(pointcloud=barycenter, dimension=d, num_components=bar_size)"
   ]
  },
  {
   "cell_type": "code",
   "execution_count": 33,
   "id": "b6c5580e",
   "metadata": {},
   "outputs": [],
   "source": [
    "gmm_generator_bary = gaussian_mixture.GaussianMixture.from_mean_cov_component_weights(mean=means_bary,\n",
    "                                                                                      cov=covs_bary,\n",
    "                                                                                      component_weights=weights_bary)"
   ]
  },
  {
   "cell_type": "code",
   "execution_count": 34,
   "id": "24506006",
   "metadata": {},
   "outputs": [],
   "source": [
    "samples_bary = gmm_generator_bary.sample(key=keys[-3], size=sample_size)"
   ]
  },
  {
   "cell_type": "code",
   "execution_count": 35,
   "id": "e1b744f5",
   "metadata": {},
   "outputs": [
    {
     "data": {
      "image/png": "[encoded data removed]",
      "text/plain": [
       "<Figure size 432x288 with 1 Axes>"
      ]
     },
     "metadata": {
      "needs_background": "light"
     },
     "output_type": "display_data"
    }
   ],
   "source": [
    "# Plot samples\n",
    "plt.scatter(samples1[:, 0], samples1[:, 1], marker='.', alpha=0.25, c='b')\n",
    "plt.scatter(samples2[:, 0], samples2[:, 1], marker='.', alpha=0.25, c='r')\n",
    "plt.scatter(samples_bary[:, 0], samples_bary[:, 1], marker='.', alpha=0.25, c='k')\n",
    "plt.show()"
   ]
  },
  {
   "cell_type": "code",
   "execution_count": 36,
   "id": "21b309ab",
   "metadata": {},
   "outputs": [
    {
     "data": {
      "text/plain": [
       "DeviceArray([[ 1.2500304,  1.2500066],\n",
       "             [-0.25     , -2.4999964]], dtype=float32)"
      ]
     },
     "execution_count": 36,
     "metadata": {},
     "output_type": "execute_result"
    }
   ],
   "source": [
    "means_bary"
   ]
  },
  {
   "cell_type": "code",
   "execution_count": 37,
   "id": "56270817",
   "metadata": {},
   "outputs": [
    {
     "data": {
      "text/plain": [
       "DeviceArray([[-2,  3],\n",
       "             [ 0, -6]], dtype=int32)"
      ]
     },
     "execution_count": 37,
     "metadata": {},
     "output_type": "execute_result"
    }
   ],
   "source": [
    "means1"
   ]
  },
  {
   "cell_type": "code",
   "execution_count": 38,
   "id": "66a08e6f",
   "metadata": {},
   "outputs": [
    {
     "data": {
      "text/plain": [
       "DeviceArray([[-1, -4],\n",
       "             [ 7,  2]], dtype=int32)"
      ]
     },
     "execution_count": 38,
     "metadata": {},
     "output_type": "execute_result"
    }
   ],
   "source": [
    "means2"
   ]
  },
  {
   "cell_type": "code",
   "execution_count": null,
   "id": "afc045a4",
   "metadata": {},
   "outputs": [],
   "source": []
  }
 ],
 "metadata": {
  "kernelspec": {
   "display_name": "Python 3 (ipykernel)",
   "language": "python",
   "name": "python3"
  },
  "language_info": {
   "codemirror_mode": {
    "name": "ipython",
    "version": 3
   },
   "file_extension": ".py",
   "mimetype": "text/x-python",
   "name": "python",
   "nbconvert_exporter": "python",
   "pygments_lexer": "ipython3",
   "version": "3.9.13"
  }
 },
 "nbformat": 4,
 "nbformat_minor": 5
}
