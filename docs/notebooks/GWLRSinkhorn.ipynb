{
  "nbformat": 4,
  "nbformat_minor": 0,
  "metadata": {
    "colab": {
      "name": "GWLRSinkhorn.ipynb",
      "provenance": [
        {
          "file_id": "1AYbnnVVudg2LCcmepy2CL8g00EzOx4Jx",
          "timestamp": 1642072748057
        }
      ],
      "collapsed_sections": [],
      "last_runtime": {
        "build_target": "//learning/deepmind/public/tools/ml_python:ml_notebook",
        "kind": "private"
      }
    },
    "kernelspec": {
      "name": "python3",
      "display_name": "Python 3"
    },
    "language_info": {
      "name": "python"
    }
  },
  "cells": [
    {
      "cell_type": "markdown",
      "source": [
        "# Low-Rank Gromov-Wasserstein\n",
        "\n",
        "We try in this colab the low-rank (LR) Gromov-Wasserstein Solver, proposed by [Scetbon et. al'21b](https://arxiv.org/abs/2106.01128), a follow up to the LR Sinkhorn solver in [Scetbon et. al'21a](http://proceedings.mlr.press/v139/scetbon21a/scetbon21a.pdf).\n"
      ],
      "metadata": {
        "id": "E_-S77MmiOou"
      }
    },
    {
      "cell_type": "code",
      "execution_count": 1,
      "metadata": {
        "id": "q9wY2bCeUIB0",
        "executionInfo": {
          "status": "ok",
          "timestamp": 1642072882570,
          "user_tz": -60,
          "elapsed": 3,
          "user": {
            "displayName": "Marco Cuturi",
            "photoUrl": "https://lh3.googleusercontent.com/a-/AOh14Gj0UBKLFbdRpYhnFiILEQ2AgXibacTBJBwmBsE4=s64",
            "userId": "04861232750708981029"
          }
        }
      },
      "outputs": [],
      "source": [
        "import jax.numpy as jnp\n",
        "import jax\n",
        "import matplotlib.pyplot as plt"
      ]
    },
    {
      "cell_type": "code",
      "source": [
        "def create_points(rng, n, m, d1, d2):\n",
        "  rngs = jax.random.split(rng, 5)\n",
        "  x = jax.random.uniform(rngs[0], (n, d1))\n",
        "  y = jax.random.uniform(rngs[1], (m, d2))\n",
        "  a = jax.random.uniform(rngs[2], (n,))\n",
        "  b = jax.random.uniform(rngs[3], (m,))\n",
        "  a = a / jnp.sum(a)\n",
        "  b = b / jnp.sum(b)\n",
        "  z = jax.random.uniform(rngs[4], (m, d1))\n",
        "  return x, y, a, b, z\n",
        "\n",
        "rng = jax.random.PRNGKey(0)\n",
        "n, m, d1, d2 = 24, 17, 2, 3\n",
        "x, y, a, b, z = create_points(rng, n, m, d1, d2)"
      ],
      "metadata": {
        "id": "PfiRNdhVW8hT",
        "executionInfo": {
          "status": "ok",
          "timestamp": 1642106895840,
          "user_tz": -60,
          "elapsed": 54,
          "user": {
            "displayName": "Marco Cuturi",
            "photoUrl": "https://lh3.googleusercontent.com/a-/AOh14Gj0UBKLFbdRpYhnFiILEQ2AgXibacTBJBwmBsE4=s64",
            "userId": "04861232750708981029"
          }
        }
      },
      "execution_count": 317,
      "outputs": []
    },
    {
      "cell_type": "markdown",
      "source": [
        "Create two toy point clouds of heterogeneous size, and add a third geometry to provide a fused problem (see [Vayer et al.'20](https://www.mdpi.com/1999-4893/13/9/212)).\n"
      ],
      "metadata": {
        "id": "y4aQGprB_oeW"
      }
    },
    {
      "cell_type": "code",
      "source": [
        "geom_xx = ott.geometry.pointcloud.PointCloud(x)\n",
        "geom_yy = ott.geometry.pointcloud.PointCloud(y)\n",
        "geom_xy = ott.geometry.pointcloud.PointCloud(x, z)  # here z is there only to create n x m geometry\n",
        "prob = ott.core.quad_problems.QuadraticProblem(geom_xx, geom_yy, geom_xy=geom_xy, a=a, b=b)"
      ],
      "metadata": {
        "id": "pN_f36ACALET",
        "executionInfo": {
          "status": "ok",
          "timestamp": 1642106994261,
          "user_tz": -60,
          "elapsed": 53,
          "user": {
            "displayName": "Marco Cuturi",
            "photoUrl": "https://lh3.googleusercontent.com/a-/AOh14Gj0UBKLFbdRpYhnFiILEQ2AgXibacTBJBwmBsE4=s64",
            "userId": "04861232750708981029"
          }
        }
      },
      "execution_count": 320,
      "outputs": []
    },
    {
      "cell_type": "markdown",
      "source": [
        "Solve the problem using the Low-Rank Sinkhorn solver."
      ],
      "metadata": {
        "id": "dS49krqd_weJ"
      }
    },
    {
      "cell_type": "code",
      "source": [
        "solver = ott.core.gromov_wasserstein.GromovWasserstein(rank=6)\n",
        "ot_gwlr = solver(prob)"
      ],
      "metadata": {
        "id": "bVmhqrCdkXxw",
        "executionInfo": {
          "status": "ok",
          "timestamp": 1642108845657,
          "user_tz": -60,
          "elapsed": 5684,
          "user": {
            "displayName": "Marco Cuturi",
            "photoUrl": "https://lh3.googleusercontent.com/a-/AOh14Gj0UBKLFbdRpYhnFiILEQ2AgXibacTBJBwmBsE4=s64",
            "userId": "04861232750708981029"
          }
        }
      },
      "execution_count": 364,
      "outputs": []
    },
    {
      "cell_type": "markdown",
      "source": [
        "Run it with entropic-GW for the sake of comparison"
      ],
      "metadata": {
        "id": "vxDoBrusUHmq"
      }
    },
    {
      "cell_type": "code",
      "source": [
        "solver = ott.core.gromov_wasserstein.GromovWasserstein(epsilon=0.05)\n",
        "ot_gw = solver(prob)"
      ],
      "metadata": {
        "id": "i6viNhAp8txm",
        "executionInfo": {
          "status": "ok",
          "timestamp": 1642107426801,
          "user_tz": -60,
          "elapsed": 2261,
          "user": {
            "displayName": "Marco Cuturi",
            "photoUrl": "https://lh3.googleusercontent.com/a-/AOh14Gj0UBKLFbdRpYhnFiILEQ2AgXibacTBJBwmBsE4=s64",
            "userId": "04861232750708981029"
          }
        }
      },
      "execution_count": 360,
      "outputs": []
    },
    {
      "cell_type": "markdown",
      "source": [
        "One can notice that their outputs are quantitatively similar."
      ],
      "metadata": {
        "id": "w35fLv3oIwLW"
      }
    },
    {
      "cell_type": "code",
      "source": [
        "plt.imshow(ot_gwlr.matrix, cmap='Purples')\n",
        "plt.colorbar()\n",
        "plt.show()\n",
        "\n",
        "plt.imshow(ot_gw.matrix, cmap='Purples')\n",
        "plt.colorbar()\n",
        "plt.show()"
      ],
      "metadata": {
        "colab": {
          "height": 513
        },
        "id": "HMfUh6uE8kdG",
        "executionInfo": {
          "status": "ok",
          "timestamp": 1642108884177,
          "user_tz": -60,
          "elapsed": 334,
          "user": {
            "displayName": "Marco Cuturi",
            "photoUrl": "https://lh3.googleusercontent.com/a-/AOh14Gj0UBKLFbdRpYhnFiILEQ2AgXibacTBJBwmBsE4=s64",
            "userId": "04861232750708981029"
          }
        },
        "outputId": "18a91c54-5e6d-45dc-f489-61e62a29dd25"
      },
      "execution_count": 365,
      "outputs": [
        {
          "output_type": "display_data",
          "data": {
            "image/png": "[encoded data removed]",
            "text/plain": [
              "<Figure size 600x400 with 2 Axes>"
            ]
          },
          "metadata": {}
        },
        {
          "output_type": "display_data",
          "data": {
            "image/png": "[encoded data removed]",
            "text/plain": [
              "<Figure size 600x400 with 2 Axes>"
            ]
          },
          "metadata": {}
        }
      ]
    },
    {
      "cell_type": "code",
      "source": [
        "print(jnp.linalg.norm(ot_gwlr.transport-ot_gw.transport))"
      ],
      "metadata": {
        "id": "ToAcMnZ4h3HO",
        "executionInfo": {
          "status": "ok",
          "timestamp": 1642108917257,
          "user_tz": -60,
          "elapsed": 53,
          "user": {
            "displayName": "Marco Cuturi",
            "photoUrl": "https://lh3.googleusercontent.com/a-/AOh14Gj0UBKLFbdRpYhnFiILEQ2AgXibacTBJBwmBsE4=s64",
            "userId": "04861232750708981029"
          }
        },
        "outputId": "090c6194-7afd-4447-f99d-98ed4813c2e5"
      },
      "execution_count": 367,
      "outputs": [
        {
          "output_type": "stream",
          "name": "stdout",
          "text": [
            "0.050668646\n"
          ]
        }
      ]
    }
  ]
}