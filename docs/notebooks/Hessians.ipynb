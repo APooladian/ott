{
  "nbformat": 4,
  "nbformat_minor": 0,
  "metadata": {
    "colab": {
      "name": "Hessians.ipynb",
      "provenance": [],
      "collapsed_sections": []
    },
    "kernelspec": {
      "name": "python3",
      "display_name": "Python 3"
    },
    "language_info": {
      "name": "python"
    }
  },
  "cells": [
    {
      "cell_type": "markdown",
      "metadata": {
        "id": "-_L4OiekjBRp"
      },
      "source": [
        "# Sinkhorn Divergence Hessians"
      ]
    },
    {
      "cell_type": "markdown",
      "metadata": {
        "id": "jzzs0FmbPpvY"
      },
      "source": [
        "## Samples two point clouds, computes their ``sinkhorn_divergence``\n",
        "\n",
        "We show in this [colab](https://colab.research.google.com/drive/1fbO-U3iDZCzTwfKCh0G5DeIcT0xWj2Y1#scrollTo=jzzs0FmbPpvY) how OTT and JAX can be used to compute automatically the Hessian of the Sinkhorn divergence w.r.t. input variables, such as weights ``a`` or locations ``x``."
      ]
    },
    {
      "cell_type": "code",
      "metadata": {
        "id": "F0ESAZHMV_vL"
      },
      "source": [
        "import jax\n",
        "import jax.numpy as jnp\n",
        "\n",
        "import ott\n",
        "from ott.tools import sinkhorn_divergence\n",
        "from ott.geometry import pointcloud\n",
        "import matplotlib.pyplot as plt"
      ],
      "execution_count": null,
      "outputs": []
    },
    {
      "cell_type": "markdown",
      "metadata": {
        "id": "1mTq29HkSFnU"
      },
      "source": [
        "Sample two random point clouds of dimension `dim`"
      ]
    },
    {
      "cell_type": "code",
      "metadata": {
        "id": "0jfa6mSiWAw6"
      },
      "source": [
        "def sample(n, m, dim):\n",
        "  rngs = jax.random.split(jax.random.PRNGKey(0), 6)\n",
        "  x = jax.random.uniform(rngs[0], (n, dim))\n",
        "  y = jax.random.uniform(rngs[1], (m, dim))\n",
        "  a = jax.random.uniform(rngs[2], (n,)) + .1\n",
        "  b = jax.random.uniform(rngs[3], (m,)) + .1\n",
        "  a = a / jnp.sum(a)\n",
        "  b = b / jnp.sum(b)\n",
        "  return a, x, b ,y"
      ],
      "execution_count": null,
      "outputs": []
    },
    {
      "cell_type": "code",
      "metadata": {
        "colab": {
          "base_uri": "https://localhost:8080/"
        },
        "id": "79peUzQOVqcJ",
        "outputId": "9c3eaa6f-21f1-496e-d779-4fe3a13d62b9"
      },
      "source": [
        "a, x, b, y = sample(15, 17, 3)"
      ],
      "execution_count": null,
      "outputs": [
        {
          "output_type": "stream",
          "text": [
            "WARNING:absl:No GPU/TPU found, falling back to CPU. (Set TF_CPP_MIN_LOG_LEVEL=0 and rerun for more info.)\n"
          ],
          "name": "stderr"
        }
      ]
    },
    {
      "cell_type": "markdown",
      "metadata": {
        "id": "kOtW4xTTSJhg"
      },
      "source": [
        "As usual in JAX, we define a custom loss that outputs the quantity of interest, and is defined using relevant inputs as arguments, i.e. parameters against which we may want to differentiate. We add to `a` and `x` the ``implicit`` auxiliary flag which will be used to switch between unrolling and implicit differentiation of the Sinkhorn algorithm (see this excellent [tutorial](http://implicit-layers-tutorial.org/implicit_functions/) for a deep dive on their differences!)\n",
        "\n",
        "The loss outputs the Sinkhorn Divergence between two point clouds."
      ]
    },
    {
      "cell_type": "code",
      "metadata": {
        "id": "38KEITACSR1D"
      },
      "source": [
        "def loss(a, x, implicit):\n",
        "  return sinkhorn_divergence.sinkhorn_divergence(\n",
        "      pointcloud.PointCloud, x, y,  # this part defines geometry\n",
        "      a=a, b=b,  # this sets weights\n",
        "      sinkhorn_kwargs={'implicit_differentiation': implicit, 'use_danskin': False}  # to be used by Sinkhorn algorithm.\n",
        "      ).divergence"
      ],
      "execution_count": null,
      "outputs": []
    },
    {
      "cell_type": "markdown",
      "metadata": {
        "id": "tnrx9dMnVDxD"
      },
      "source": [
        "Let's parse the three lines in the call to ``sinkhorn_divergence`` above:\n",
        "- The first one defines the point cloud geometry between ``x`` and ``y`` that will define the cost matrix. Here we could have added details on ``epsilon`` regularization (or scheduler), as well as alternative definitions of the cost function (here assumed by default to be squared Euclidean distance). We stick to the default setting.\n",
        "\n",
        "- The second one sets the respective weight vectors `a` and `b`. Those are simply two histograms of size ``n`` and ``m``, both sum to 1, in the so-called balanced setting.\n",
        "\n",
        "- The third one passes on arguments to the three ``sinkhorn`` solvers that will be called, to compare ``x`` with ``y``, ``x`` with ``x`` and ``y`` with ``y`` with their respective weights ``a`` and ``b``. Rather than focusing on the several numerical options available to parmeterize ``sinkhorn``'s behavior, we instruct JAX on how it should differentiate the outputs of the sinkhorn algorithm. The ``use_danskin`` flag specifies whether the outputted potentials should be freezed when differentiating. Since we aim for 2nd order differentiation here, we must set this to ``False`` (if we wanted to compute gradients, ``True`` would have resulted in faster yet almost equivalent computations)."
      ]
    },
    {
      "cell_type": "markdown",
      "metadata": {
        "id": "hjIAe7ducbaH"
      },
      "source": [
        "## Computing Hessians"
      ]
    },
    {
      "cell_type": "markdown",
      "metadata": {
        "id": "StMRwYUJVuOY"
      },
      "source": [
        "Let's now plot Hessians of this output w.r.t. either ``a`` or ``x``. \n",
        "\n",
        "- The Hessian w.r.t. ``a`` will be a $n \\times n$ matrix, with the convention that ``a`` has size $n$. \n",
        "\n",
        "- Because ``x`` is itself a matrix of 3D coordinates, the Hessian w.r.t. ``x`` will be a 4D tensor of size $n \\times 3 \\times n \\times 3$.\n",
        "\n",
        "To plot both Hessians, we loop on arg 0 or 1 of ``loss``, and plot all (or part for ``x``) of those Hessians, to check they match:"
      ]
    },
    {
      "cell_type": "code",
      "metadata": {
        "colab": {
          "base_uri": "https://localhost:8080/",
          "height": 1000
        },
        "id": "JRBYQmh9WzLY",
        "outputId": "bb09193d-e0f5-4959-d60e-33ce77328c5d"
      },
      "source": [
        "for arg in [0,1]:\n",
        "  # Compute Hessians using either unrolling or implicit differentiation.\n",
        "  hess_loss_imp = jax.jit(jax.hessian(lambda a, x: loss(a, x, True),\n",
        "                                      argnums=arg))\n",
        "  print('--- Time: Implicit Hessian w.r.t. ' + ('a' if arg == 0 else 'x'))\n",
        "  %timeit _ = hess_loss_imp(a, x).block_until_ready() \n",
        "  hess_imp = hess_loss_imp(a, x)\n",
        "\n",
        "  hess_loss_back = jax.jit(jax.hessian(lambda a, x: loss(a, x, False),\n",
        "                                        argnums=arg))\n",
        "  print('--- Time: Unrolled Hessian w.r.t. ' + ('a' if arg == 0 else 'x'))\n",
        "  %timeit _ = hess_loss_back(a, x).block_until_ready() \n",
        "  hess_back = hess_loss_back(a, x)\n",
        "\n",
        "  # Since we are solving balanced OT problems, Hessians w.r.t. weights are\n",
        "  # only defined up to the orthogonal space of 1s.\n",
        "  # For that reason we remove that contribution and check the\n",
        "  # resulting matrices are equal.\n",
        "  if arg == 0:\n",
        "    hess_imp -= jnp.mean(hess_imp,axis=1)[:,None]\n",
        "    hess_back -= jnp.mean(hess_back,axis=1)[:,None]\n",
        "  plt.figure()\n",
        "  plt.imshow(hess_imp if arg == 0 else hess_imp[0,0,:,:])\n",
        "  plt.title('Implicit Hessian w.r.t. ' + ('a' if arg == 0 else 'x (1st slice)'))\n",
        "  plt.colorbar()\n",
        "  plt.figure()\n",
        "  plt.imshow(hess_back if arg == 0 else hess_back[0,0,:,:])\n",
        "  plt.title('Unrolled Hessian w.r.t. ' + ('a' if arg == 0 else 'x (1st slice)'))\n",
        "  plt.colorbar()"
      ],
      "execution_count": null,
      "outputs": [
        {
          "output_type": "stream",
          "text": [
            "--- Time: Implicit Hessian w.r.t. a\n",
            "The slowest run took 1629.32 times longer than the fastest. This could mean that an intermediate result is being cached.\n",
            "1 loop, best of 5: 14.9 ms per loop\n",
            "--- Time: Unrolled Hessian w.r.t. a\n",
            "The slowest run took 260.71 times longer than the fastest. This could mean that an intermediate result is being cached.\n",
            "1 loop, best of 5: 89.8 ms per loop\n",
            "--- Time: Implicit Hessian w.r.t. x\n",
            "The slowest run took 508.22 times longer than the fastest. This could mean that an intermediate result is being cached.\n",
            "1 loop, best of 5: 53.3 ms per loop\n",
            "--- Time: Unrolled Hessian w.r.t. x\n",
            "The slowest run took 127.02 times longer than the fastest. This could mean that an intermediate result is being cached.\n",
            "1 loop, best of 5: 183 ms per loop\n"
          ],
          "name": "stdout"
        },
        {
          "output_type": "display_data",
          "data": {
            "image/png": "[encoded data removed]",
            "text/plain": [
              "<Figure size 432x288 with 2 Axes>"
            ]
          },
          "metadata": {
            "tags": [],
            "needs_background": "light"
          }
        },
        {
          "output_type": "display_data",
          "data": {
            "image/png": "[encoded data removed]",
            "text/plain": [
              "<Figure size 432x288 with 2 Axes>"
            ]
          },
          "metadata": {
            "tags": [],
            "needs_background": "light"
          }
        },
        {
          "output_type": "display_data",
          "data": {
            "image/png": "[encoded data removed]",
            "text/plain": [
              "<Figure size 432x288 with 2 Axes>"
            ]
          },
          "metadata": {
            "tags": [],
            "needs_background": "light"
          }
        },
        {
          "output_type": "display_data",
          "data": {
            "image/png": "[encoded data removed]",
            "text/plain": [
              "<Figure size 432x288 with 2 Axes>"
            ]
          },
          "metadata": {
            "tags": [],
            "needs_background": "light"
          }
        }
      ]
    }
  ]
}