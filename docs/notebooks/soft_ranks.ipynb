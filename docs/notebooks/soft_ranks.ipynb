{
  "nbformat": 4,
  "nbformat_minor": 0,
  "metadata": {
    "colab": {
      "name": "Soft Ranks Loss",
      "provenance": [],
      "collapsed_sections": [],
      "last_runtime": {
        "build_target": "//learning/deepmind/public/tools/ml_python:ml_notebook",
        "kind": "private"
      }
    },
    "kernelspec": {
      "name": "python3",
      "display_name": "Python 3"
    },
    "language_info": {
      "name": "python"
    }
  },
  "cells": [
    {
      "cell_type": "markdown",
      "metadata": {
        "id": "HyCFZWFZrxb-"
      },
      "source": [
        "In this tutorial we will use OTT to implement a loss based on soft ranks to train a neural network for image classification, as it was done by [Cuturi et al. 2019](https://arxiv.org/abs/1905.11885).\n",
        "\n",
        "This implementation relies on [flax](https://github.com/google/flax) a neural network library for jax."
      ]
    },
    {
      "cell_type": "markdown",
      "metadata": {
        "id": "ZYZxzO1KroJP"
      },
      "source": [
        "## Imports\n",
        "\n",
        "First of all, we need to import some packages."
      ]
    },
    {
      "cell_type": "code",
      "metadata": {
        "id": "qIGBzmimVTvY",
        "executionInfo": {
          "status": "ok",
          "timestamp": 1617204215707,
          "user_tz": -120,
          "elapsed": 34520,
          "user": {
            "displayName": "Olivier Teboul",
            "photoUrl": "https://lh3.googleusercontent.com/a-/AOh14Gh386BqZihYQl0BMn-nlhiF6S29kFfZALR0XWy7=s64",
            "userId": "01536817380837432840"
          }
        }
      },
      "source": [
        "import collections\n",
        "import functools\n",
        "from typing import Any\n",
        "\n",
        "import flax\n",
        "from flax import jax_utils\n",
        "from flax.training import common_utils\n",
        "from flax import linen as nn\n",
        "\n",
        "import jax \n",
        "import jax.numpy as jnp\n",
        "import numpy as np\n",
        "import matplotlib.pyplot as plt\n",
        "import ml_collections\n",
        "import tensorflow as tf\n",
        "import tensorflow_datasets as tfds\n",
        "\n",
        "from colabtools import adhoc_import\n",
        "with adhoc_import.Google3():\n",
        "  import ott"
      ],
      "execution_count": 1,
      "outputs": []
    },
    {
      "cell_type": "markdown",
      "metadata": {
        "id": "j2iZHNEvsmWC"
      },
      "source": [
        "## Model\n",
        "\n",
        "Similarly to [Cuturi et al. 2019](https://arxiv.org/abs/1905.11885), we will train a vanilla CNN made of 4 convolutional blocks."
      ]
    },
    {
      "cell_type": "code",
      "metadata": {
        "id": "nc3sgi12zPX2",
        "executionInfo": {
          "status": "ok",
          "timestamp": 1617204215900,
          "user_tz": -120,
          "elapsed": 168,
          "user": {
            "displayName": "Olivier Teboul",
            "photoUrl": "https://lh3.googleusercontent.com/a-/AOh14Gh386BqZihYQl0BMn-nlhiF6S29kFfZALR0XWy7=s64",
            "userId": "01536817380837432840"
          }
        }
      },
      "source": [
        "class ConvBlock(nn.Module):\n",
        "  \"\"\"A simple CNN blockl.\"\"\"\n",
        "\n",
        "  features: int = 32\n",
        "  dtype: Any = jnp.float32\n",
        "\n",
        "  @nn.compact\n",
        "  def __call__(self, x, train: bool = True):\n",
        "    x = nn.Conv(features=self.features, kernel_size=(3, 3))(x)\n",
        "    x = nn.relu(x)\n",
        "    x = nn.Conv(features=self.features, kernel_size=(3, 3))(x)\n",
        "    x = nn.relu(x)\n",
        "    x = nn.max_pool(x, window_shape=(2, 2), strides=(2, 2))\n",
        "    return x\n",
        "\n",
        "\n",
        "class CNN(nn.Module):\n",
        "  \"\"\"A simple CNN model.\"\"\"\n",
        "\n",
        "  num_classes: int = 10\n",
        "  dtype: Any = jnp.float32\n",
        "\n",
        "  @nn.compact\n",
        "  def __call__(self, x, train: bool = True):\n",
        "    x = ConvBlock(features=32)(x)\n",
        "    x = ConvBlock(features=64)(x)\n",
        "    x = x.reshape((x.shape[0], -1))  # flatten\n",
        "    x = nn.Dense(features=512)(x)\n",
        "    x = nn.relu(x)\n",
        "    x = nn.Dense(features=self.num_classes)(x)\n",
        "    x = nn.log_softmax(x)\n",
        "    return x"
      ],
      "execution_count": 2,
      "outputs": []
    },
    {
      "cell_type": "markdown",
      "metadata": {
        "id": "SHgEgNFLMUGV"
      },
      "source": [
        "## Data\n",
        "\n",
        "We use tensorflow datasets to load and augment cifar10."
      ]
    },
    {
      "cell_type": "code",
      "metadata": {
        "id": "n-pcHAaXMcov",
        "executionInfo": {
          "status": "ok",
          "timestamp": 1617204216065,
          "user_tz": -120,
          "elapsed": 157,
          "user": {
            "displayName": "Olivier Teboul",
            "photoUrl": "https://lh3.googleusercontent.com/a-/AOh14Gh386BqZihYQl0BMn-nlhiF6S29kFfZALR0XWy7=s64",
            "userId": "01536817380837432840"
          }
        }
      },
      "source": [
        "def prepare_tf_data(xs):\n",
        "  \"\"\"Convert a input batch from tf Tensors to numpy arrays.\"\"\"\n",
        "  local_device_count = jax.local_device_count()\n",
        "  def _prepare(x):\n",
        "    # Use _numpy() for zero-copy conversion between TF and NumPy.\n",
        "    x = x._numpy()\n",
        "    return x.reshape((local_device_count, -1) + x.shape[1:])\n",
        "\n",
        "  return jax.tree_map(_prepare, xs)\n",
        "\n",
        "def create_input_iter(dataset_builder, batch_size, train):\n",
        "  split = tfds.Split.TRAIN if train else tfds.Split.TEST\n",
        "  ds = dataset_builder.as_dataset(split=split)\n",
        "  if train:\n",
        "    ds = ds.repeat()\n",
        "    ds = ds.shuffle(16 * batch_size, seed=0)\n",
        "\n",
        "  def prepare_for_train(inputs):\n",
        "    im = inputs['image']\n",
        "    im = tf.image.random_flip_left_right(im)\n",
        "    im = tf.image.random_crop(im, (28, 28, 3))\n",
        "    im = tf.image.pad_to_bounding_box(im, 2, 2, 32, 32)\n",
        "    im = tf.cast(im, dtype=tf.float32)\n",
        "    im = tf.image.per_image_standardization(im)\n",
        "    inputs['image'] = im\n",
        "    inputs.pop('id')\n",
        "    return inputs\n",
        "\n",
        "  def prepare_for_eval(inputs):\n",
        "    im = inputs['image']\n",
        "    # im = tf.image.pad_to_bounding_box(im[2:,2:], 1, 1, 32, 32)\n",
        "    im = tf.cast(im, dtype=tf.float32)\n",
        "    im = tf.image.per_image_standardization(im)\n",
        "    inputs['image'] = im\n",
        "    inputs.pop('id')\n",
        "    return inputs\n",
        "\n",
        "  prepare_fn = prepare_for_train if train else prepare_for_eval\n",
        "  ds = ds.map(prepare_fn, num_parallel_calls=tf.data.AUTOTUNE)\n",
        "  ds = ds.batch(batch_size, drop_remainder=True)\n",
        "\n",
        "  if not train:\n",
        "    ds = ds.repeat()\n",
        "\n",
        "  ds = ds.prefetch(10)\n",
        "  it = map(prepare_tf_data, ds)\n",
        "  it = jax_utils.prefetch_to_device(it, 2)\n",
        "  return it"
      ],
      "execution_count": 3,
      "outputs": []
    },
    {
      "cell_type": "markdown",
      "metadata": {
        "id": "2kmdKD5pzr_1"
      },
      "source": [
        "## Losses\n",
        "\n",
        "Here we consider as a loss the soft error based on soft ranks. The idea is to consider the loss to be zero if the logit of the true class ranks on top, that is to say in our case has rank 9 (since we have 10 classes)."
      ]
    },
    {
      "cell_type": "code",
      "metadata": {
        "id": "btQvkuwmrmyQ",
        "executionInfo": {
          "status": "ok",
          "timestamp": 1617214258459,
          "user_tz": -120,
          "elapsed": 180,
          "user": {
            "displayName": "Olivier Teboul",
            "photoUrl": "https://lh3.googleusercontent.com/a-/AOh14Gh386BqZihYQl0BMn-nlhiF6S29kFfZALR0XWy7=s64",
            "userId": "01536817380837432840"
          }
        }
      },
      "source": [
        "def cross_entropy_loss(logits, labels):\n",
        "  num_labels = logits.shape[1]\n",
        "  one_hots = common_utils.onehot(labels, num_classes=num_labels)\n",
        "  return -jnp.sum(one_hots * logits) / labels.size\n",
        "\n",
        "\n",
        "def soft_error_loss(logits, labels, correct=True):\n",
        "  num_labels = logits.shape[1]\n",
        "  one_hots = common_utils.onehot(labels, num_classes=num_labels)\n",
        "  soft_ranks = ott.tools.soft_sort.ranks(logits, axis=1)\n",
        "  return jnp.mean(nn.relu(\n",
        "      num_labels - 1 - jnp.sum(one_hots * soft_ranks, axis=1)))\n",
        "  \n",
        "LOSSES = {\n",
        "    'cross_entropy': cross_entropy_loss,\n",
        "    'soft_error': soft_error_loss\n",
        "    }"
      ],
      "execution_count": 23,
      "outputs": []
    },
    {
      "cell_type": "markdown",
      "metadata": {
        "id": "-dDr-IW5zREF"
      },
      "source": [
        "## Training Loop\n",
        "\n",
        "We define a training loop based on Flax. For more information, please refer to the [Flax examples](https://github.com/google/flax/tree/master/examples)."
      ]
    },
    {
      "cell_type": "code",
      "metadata": {
        "id": "IyjgTFc6CPGV",
        "executionInfo": {
          "status": "ok",
          "timestamp": 1617214270773,
          "user_tz": -120,
          "elapsed": 309,
          "user": {
            "displayName": "Olivier Teboul",
            "photoUrl": "https://lh3.googleusercontent.com/a-/AOh14Gh386BqZihYQl0BMn-nlhiF6S29kFfZALR0XWy7=s64",
            "userId": "01536817380837432840"
          }
        }
      },
      "source": [
        "def initialized(key, height, width, model):\n",
        "  input_shape = (1, height, width, 3)\n",
        "\n",
        "  @jax.jit\n",
        "  def init(*args):\n",
        "    return model.init(*args)\n",
        "\n",
        "  variables = init({'params': key},\n",
        "                   jnp.ones(input_shape, jnp.float32))\n",
        "  model_state, params = variables.pop('params')\n",
        "  return params, model_state\n",
        "\n",
        "\n",
        "def compute_metrics(logits, labels, loss_fn):\n",
        "  loss = loss_fn(logits, labels)\n",
        "  accuracy = jnp.mean(jnp.argmax(logits, -1) == labels)\n",
        "  metrics = {\n",
        "      'loss': loss,\n",
        "      'accuracy': accuracy,\n",
        "  }\n",
        "  metrics = jax.lax.pmean(metrics, axis_name='batch')\n",
        "  return metrics\n",
        "\n",
        "\n",
        "def train_step(apply_fn, loss_fn, state, batch):\n",
        "  \"\"\"Perform a single training step.\"\"\"\n",
        "\n",
        "  def compute_loss(params):\n",
        "    variables = {'params': params, **state.model_state}\n",
        "    logits = apply_fn(variables, batch['image'])\n",
        "    loss = loss_fn(logits, batch['label'])\n",
        "    return loss, logits\n",
        "\n",
        "  grad_fn = jax.value_and_grad(compute_loss, has_aux=True)\n",
        "  aux, grad = grad_fn(state.optimizer.target)\n",
        "  # Re-use same axis_name as in the call to `pmap(...train_step...)` below.\n",
        "  grad = jax.lax.pmean(grad, axis_name='batch')\n",
        "  logits = aux[1]\n",
        "  new_optimizer = state.optimizer.apply_gradient(grad)\n",
        "  metrics = compute_metrics(logits, batch['label'], loss_fn=loss_fn)\n",
        "  new_state = state.replace(step=state.step + 1, optimizer=new_optimizer)\n",
        "  return new_state, metrics\n",
        "\n",
        "\n",
        "def eval_step(apply_fn, loss_fn, state, batch):\n",
        "  params = state.optimizer.target\n",
        "  variables = {'params': params, **state.model_state}\n",
        "  logits = apply_fn(variables, batch['image'], train=False, mutable=False)\n",
        "  return compute_metrics(logits, batch['label'], loss_fn=loss_fn)\n",
        "\n",
        "\n",
        "@flax.struct.dataclass\n",
        "class TrainState:\n",
        "  step: int\n",
        "  optimizer: flax.optim.Optimizer\n",
        "  model_state: Any\n",
        "\n",
        "\n",
        "def create_train_state(rng, config, model, height, width):\n",
        "  \"\"\"Create initial training state.\"\"\"\n",
        "  platform = jax.local_devices()[0].platform\n",
        "  params, model_state = initialized(rng, height, width, model)\n",
        "  optimizer = flax.optim.Momentum(\n",
        "      learning_rate=config.learning_rate,\n",
        "      beta=config.momentum, nesterov=True).create(params)\n",
        "  state = TrainState(step=0, optimizer=optimizer, model_state=model_state)\n",
        "  return state\n",
        "\n",
        "\n",
        "def log(results, epoch, summary, train=True, end='\\r'):\n",
        "  phase = 'train' if train else 'eval'\n",
        "  for key in ('loss', 'accuracy'):\n",
        "    results[f'{phase}_{key}'].append((epoch + 1, summary[key]))\n",
        "  print('{} epoch: {}, loss: {:.3f}, accuracy: {:.2%}'.format(\n",
        "      phase, epoch + 1, summary['loss'], summary['accuracy']), end=end)\n",
        "\n",
        "\n",
        "def train_and_evaluate(config: ml_collections.ConfigDict, seed: int = 0):\n",
        "  \"\"\"Executes model training and evaluation loop.\"\"\"\n",
        "  rng = jax.random.PRNGKey(seed)\n",
        "\n",
        "  if config.batch_size % jax.device_count() > 0:\n",
        "    raise ValueError('Batch size must be divisible by the number of devices')\n",
        "\n",
        "  loss_fn = LOSSES.get(config.loss, None)\n",
        "  if loss_fn is None:\n",
        "    raise ValueError(\n",
        "        f'Unknown loss {config.loss}. Possible values: {\",\".join(LOSSES)}')\n",
        "\n",
        "  local_batch_size = config.batch_size // jax.host_count()\n",
        "  platform = jax.local_devices()[0].platform\n",
        "  dataset_builder = tfds.builder(config.dataset)\n",
        "  info = dataset_builder.info\n",
        "  height, width = info.features['image'].shape[:2]\n",
        "  train_iter = create_input_iter(dataset_builder, local_batch_size, train=True)\n",
        "  eval_iter = create_input_iter(dataset_builder, local_batch_size, train=False)\n",
        "  steps_per_epoch = info.splits['train'].num_examples // config.batch_size\n",
        "  num_steps = int(steps_per_epoch * config.num_epochs)\n",
        "  num_validation_examples = info.splits['test'].num_examples\n",
        "  steps_per_eval = num_validation_examples // config.batch_size\n",
        "\n",
        "  num_classes = info.features['label'].num_classes\n",
        "  model = CNN(num_classes=num_classes, dtype=jnp.float32)\n",
        "  state = create_train_state(rng, config, model, height, width)\n",
        "  state = jax_utils.replicate(state)\n",
        "\n",
        "  p_train_step = jax.pmap(\n",
        "      functools.partial(train_step, model.apply, loss_fn), axis_name='batch')\n",
        "  p_eval_step = jax.pmap(\n",
        "      functools.partial(eval_step, model.apply, loss_fn), axis_name='batch')\n",
        "  \n",
        "  results = collections.defaultdict(list)\n",
        "  epoch_metrics = []\n",
        "  for step, batch in zip(range(num_steps), train_iter):\n",
        "    state, metrics = p_train_step(state=state, batch=batch)\n",
        "    epoch_metrics.append(metrics)\n",
        "\n",
        "    if (step + 1) % steps_per_epoch == 0:\n",
        "      epoch = step // steps_per_epoch\n",
        "      epoch_metrics = common_utils.get_metrics(epoch_metrics)\n",
        "      summary = jax.tree_map(lambda x: x.mean(), epoch_metrics)\n",
        "      log(results, epoch, summary, train=True)\n",
        "\n",
        "      epoch_metrics = []\n",
        "      eval_metrics = []\n",
        "      for _ in range(steps_per_eval):\n",
        "        eval_batch = next(eval_iter)\n",
        "        metrics = p_eval_step(state, eval_batch)\n",
        "        eval_metrics.append(metrics)\n",
        "      eval_metrics = common_utils.get_metrics(eval_metrics)\n",
        "      summary = jax.tree_map(lambda x: x.mean(), eval_metrics)\n",
        "      log(results, epoch, summary, train=False)\n",
        "\n",
        "  # Wait until computations are done before exiting\n",
        "  jax.random.normal(jax.random.PRNGKey(0), ()).block_until_ready()\n",
        "  return results, state"
      ],
      "execution_count": 25,
      "outputs": []
    },
    {
      "cell_type": "markdown",
      "metadata": {
        "id": "basMwY-Ue47f"
      },
      "source": [
        "## Run"
      ]
    },
    {
      "cell_type": "code",
      "metadata": {
        "id": "U_OeFb5mMv08",
        "executionInfo": {
          "status": "ok",
          "timestamp": 1617214292787,
          "user_tz": -120,
          "elapsed": 250,
          "user": {
            "displayName": "Olivier Teboul",
            "photoUrl": "https://lh3.googleusercontent.com/a-/AOh14Gh386BqZihYQl0BMn-nlhiF6S29kFfZALR0XWy7=s64",
            "userId": "01536817380837432840"
          }
        }
      },
      "source": [
        "config = ml_collections.ConfigDict()\n",
        "config.dataset = 'cifar10'\n",
        "config.learning_rate = 1e-4\n",
        "config.momentum = 0.9\n",
        "config.batch_size = 64\n",
        "config.num_epochs = 200"
      ],
      "execution_count": 27,
      "outputs": []
    },
    {
      "cell_type": "code",
      "metadata": {
        "id": "hVjY1Xv4BoZc",
        "executionInfo": {
          "status": "ok",
          "timestamp": 1617216846531,
          "user_tz": -120,
          "elapsed": 2545472,
          "user": {
            "displayName": "Olivier Teboul",
            "photoUrl": "https://lh3.googleusercontent.com/a-/AOh14Gh386BqZihYQl0BMn-nlhiF6S29kFfZALR0XWy7=s64",
            "userId": "01536817380837432840"
          }
        },
        "outputId": "bbb06eec-45f4-434b-a581-e93a18befc53"
      },
      "source": [
        "results = {}\n",
        "for loss in LOSSES:\n",
        "  config.loss = loss\n",
        "  curves, _ = train_and_evaluate(config)\n",
        "  results[loss] = {k: np.array(v) for k, v in curves.items()}"
      ],
      "execution_count": 28,
      "outputs": [
        {
          "output_type": "stream",
          "text": [
            ""
          ],
          "name": "stdout"
        }
      ]
    },
    {
      "cell_type": "code",
      "metadata": {
        "colab": {
          "height": 345
        },
        "id": "7SnDOUcMAWw7",
        "executionInfo": {
          "status": "ok",
          "timestamp": 1617217588786,
          "user_tz": -120,
          "elapsed": 606,
          "user": {
            "displayName": "Olivier Teboul",
            "photoUrl": "https://lh3.googleusercontent.com/a-/AOh14Gh386BqZihYQl0BMn-nlhiF6S29kFfZALR0XWy7=s64",
            "userId": "01536817380837432840"
          }
        },
        "outputId": "ae0df994-f89e-4d40-ea55-44a092538e16"
      },
      "source": [
        "fig, axes = plt.subplots(1, 2, figsize=(16, 5))\n",
        "phase = 'eval'\n",
        "for ax, metric in zip(axes, ['loss', 'accuracy']):\n",
        "  for label, c in results.items():\n",
        "    ax.plot(*c[f'{phase}_{metric}'].T, label=label, lw=3)\n",
        "  ax.legend(fontsize=16)\n",
        "  ax.set_title(f'{phase} {metric}', fontsize=24)"
      ],
      "execution_count": 29,
      "outputs": [
        {
          "output_type": "display_data",
          "data": {
            "image/png": "[encoded data removed]",
            "text/plain": [
              "<Figure size 1600x500 with 2 Axes>"
            ]
          },
          "metadata": {
            "tags": []
          }
        }
      ]
    }
  ]
}